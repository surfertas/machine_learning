{
 "cells": [
  {
   "cell_type": "code",
   "execution_count": 58,
   "metadata": {},
   "outputs": [],
   "source": [
    "from sklearn.datasets import load_iris\n",
    "\n",
    "from sklearn.model_selection import GridSearchCV\n",
    "from sklearn.model_selection import StratifiedShuffleSplit\n",
    "\n",
    "from sklearn.preprocessing import StandardScaler\n",
    "from sklearn.decomposition import PCA\n",
    "from sklearn.pipeline import Pipeline\n",
    "from sklearn.externals import joblib\n",
    "from sklearn.linear_model import LogisticRegression\n",
    "from sklearn import svm\n",
    "\n",
    "import numpy as np"
   ]
  },
  {
   "cell_type": "code",
   "execution_count": 71,
   "metadata": {},
   "outputs": [],
   "source": [
    "# References\n",
    "# https://www.csie.ntu.edu.tw/~cjlin/papers/guide/guide.pdf\n",
    "# http://scikit-learn.org/stable/auto_examples/svm/plot_rbf_parameters.html\n",
    "# https://www.kdnuggets.com/2017/12/managing-machine-learning-workflows-scikit-learn-pipelines-part-1.html"
   ]
  },
  {
   "cell_type": "code",
   "execution_count": 59,
   "metadata": {},
   "outputs": [],
   "source": [
    "# Load data, splitting will be handled by grid search\n",
    "iris = load_iris()\n",
    "X = iris.data\n",
    "y = iris.target"
   ]
  },
  {
   "cell_type": "code",
   "execution_count": 65,
   "metadata": {},
   "outputs": [],
   "source": [
    "# Construct pipelines\n",
    "pipe_lr = Pipeline([('scl', StandardScaler()),\n",
    "            ('pca', PCA()),\n",
    "            ('clf', LogisticRegression())])\n",
    "\n",
    "pipe_svm = Pipeline([('scl', StandardScaler()),\n",
    "            ('pca', PCA()),\n",
    "            ('clf', svm.SVC())])\n",
    "    "
   ]
  },
  {
   "cell_type": "code",
   "execution_count": 61,
   "metadata": {},
   "outputs": [],
   "source": [
    "# Parameters to use for grid search\n",
    "param_lr = {\n",
    "    'pca__n_components': (2,3,4),\n",
    "    'clf__penalty': ('l1', 'l2'),\n",
    "    'clf__C': np.logspace(-2, 10, 13),\n",
    "}\n",
    "\n",
    "# https://www.csie.ntu.edu.tw/~cjlin/papers/guide/guide.pdf\n",
    "# http://scikit-learn.org/stable/auto_examples/svm/plot_rbf_parameters.html\n",
    "param_svm = {\n",
    "    'pca__n_components': (2,3,4),\n",
    "    'clf__C': np.logspace(-2, 10, 13),\n",
    "    'clf__gamma': np.logspace(-9, 3, 13),\n",
    "}"
   ]
  },
  {
   "cell_type": "code",
   "execution_count": 66,
   "metadata": {},
   "outputs": [],
   "source": [
    "# Create dictionary for easy referencing\n",
    "pipe_dict = {\n",
    "    \"lr\": ('Logistic Regression', pipe_lr, param_lr),\n",
    "    \"svm\": ('Support Vector Machine', pipe_svm, param_svm)\n",
    "}"
   ]
  },
  {
   "cell_type": "code",
   "execution_count": 67,
   "metadata": {},
   "outputs": [],
   "source": [
    "classifiers = [\"lr\", \"svm\"]\n",
    "cv = StratifiedShuffleSplit(n_splits=5, test_size=0.2, random_state=42)"
   ]
  },
  {
   "cell_type": "code",
   "execution_count": 70,
   "metadata": {},
   "outputs": [
    {
     "name": "stdout",
     "output_type": "stream",
     "text": [
      "Logistic Regression: The best parameters are {'clf__penalty': 'l1', 'clf__C': 10000.0, 'pca__n_components': 4} with a score of 0.953333\n",
      "Support Vector Machine: The best parameters are {'clf__gamma': 0.10000000000000001, 'pca__n_components': 3, 'clf__C': 1.0} with a score of 0.980000\n"
     ]
    }
   ],
   "source": [
    "best_pipe = best_clf = best = None\n",
    "\n",
    "for clf in classifiers:\n",
    "    model, pipe, param_grid = pipe_dict[clf]\n",
    "    grid = GridSearchCV(pipe, param_grid=param_grid, cv=cv)\n",
    "    grid.fit(X, y)\n",
    "    \n",
    "    print(\"{}: The best parameters are {} with a score of {:0.6f}\".format(\n",
    "          model, grid.best_params_, grid.best_score_)\n",
    "    )\n",
    "    if grid.best_score_ > best:\n",
    "        best_pipe = pipe\n",
    "        best_clf = model\n",
    "        best = grid.best_score_\n",
    "    "
   ]
  },
  {
   "cell_type": "code",
   "execution_count": 74,
   "metadata": {},
   "outputs": [
    {
     "name": "stdout",
     "output_type": "stream",
     "text": [
      "Saved Support Vector Machine pipeline to file\n"
     ]
    }
   ],
   "source": [
    "# Save pipeline to file\n",
    "\n",
    "joblib.dump(best_pipe, 'best_pipeline.pkl', compress=1)\n",
    "print('Saved {} pipeline to file'.format(best_clf))"
   ]
  },
  {
   "cell_type": "code",
   "execution_count": null,
   "metadata": {},
   "outputs": [],
   "source": []
  },
  {
   "cell_type": "code",
   "execution_count": null,
   "metadata": {},
   "outputs": [],
   "source": []
  }
 ],
 "metadata": {
  "kernelspec": {
   "display_name": "Python 2",
   "language": "python",
   "name": "python2"
  },
  "language_info": {
   "codemirror_mode": {
    "name": "ipython",
    "version": 2
   },
   "file_extension": ".py",
   "mimetype": "text/x-python",
   "name": "python",
   "nbconvert_exporter": "python",
   "pygments_lexer": "ipython2",
   "version": "2.7.12"
  }
 },
 "nbformat": 4,
 "nbformat_minor": 2
}
