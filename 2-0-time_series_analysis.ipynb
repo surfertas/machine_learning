{
 "cells": [
  {
   "cell_type": "code",
   "execution_count": 1,
   "metadata": {},
   "outputs": [],
   "source": [
    "import os\n",
    "import numpy as np\n",
    "import pandas as pd\n",
    "import seaborn as sns\n",
    "import matplotlib.pyplot as plt\n",
    "sns.set(style='ticks', context='talk')\n",
    "\n",
    "import quandl\n",
    "\n",
    "if int(os.environ.get(\"MODERN_PANDAS_EPUB\", 0)):\n",
    "    import prep # noqa\n",
    "    \n",
    "%matplotlib inline\n"
   ]
  },
  {
   "cell_type": "code",
   "execution_count": 2,
   "metadata": {},
   "outputs": [],
   "source": [
    "# Reference: \n",
    "# http://tomaugspurger.github.io/modern-7-timeseries\n",
    "# http://scikit-learn.org/stable/modules/generated/sklearn.model_selection.train_test_split.html\n",
    "# https://becominghuman.ai/stats-models-vs-sklearn-for-linear-regression-f19df95ad99b\n",
    "# https://www.quantopian.com/lectures/linear-regression"
   ]
  },
  {
   "cell_type": "code",
   "execution_count": 3,
   "metadata": {},
   "outputs": [
    {
     "data": {
      "text/html": [
       "<div>\n",
       "<style scoped>\n",
       "    .dataframe tbody tr th:only-of-type {\n",
       "        vertical-align: middle;\n",
       "    }\n",
       "\n",
       "    .dataframe tbody tr th {\n",
       "        vertical-align: top;\n",
       "    }\n",
       "\n",
       "    .dataframe thead th {\n",
       "        text-align: right;\n",
       "    }\n",
       "</style>\n",
       "<table border=\"1\" class=\"dataframe\">\n",
       "  <thead>\n",
       "    <tr style=\"text-align: right;\">\n",
       "      <th></th>\n",
       "      <th>Open</th>\n",
       "      <th>High</th>\n",
       "      <th>Low</th>\n",
       "      <th>Close</th>\n",
       "      <th>Volume</th>\n",
       "      <th>Ex-Dividend</th>\n",
       "      <th>Split Ratio</th>\n",
       "      <th>Adj. Open</th>\n",
       "      <th>Adj. High</th>\n",
       "      <th>Adj. Low</th>\n",
       "      <th>Adj. Close</th>\n",
       "      <th>Adj. Volume</th>\n",
       "    </tr>\n",
       "    <tr>\n",
       "      <th>Date</th>\n",
       "      <th></th>\n",
       "      <th></th>\n",
       "      <th></th>\n",
       "      <th></th>\n",
       "      <th></th>\n",
       "      <th></th>\n",
       "      <th></th>\n",
       "      <th></th>\n",
       "      <th></th>\n",
       "      <th></th>\n",
       "      <th></th>\n",
       "      <th></th>\n",
       "    </tr>\n",
       "  </thead>\n",
       "  <tbody>\n",
       "    <tr>\n",
       "      <th>2006-01-03</th>\n",
       "      <td>72.33</td>\n",
       "      <td>74.75</td>\n",
       "      <td>72.25</td>\n",
       "      <td>74.75</td>\n",
       "      <td>28829800.0</td>\n",
       "      <td>0.0</td>\n",
       "      <td>1.0</td>\n",
       "      <td>9.30</td>\n",
       "      <td>9.61</td>\n",
       "      <td>9.29</td>\n",
       "      <td>9.61</td>\n",
       "      <td>201808600.0</td>\n",
       "    </tr>\n",
       "    <tr>\n",
       "      <th>2006-01-04</th>\n",
       "      <td>75.13</td>\n",
       "      <td>75.98</td>\n",
       "      <td>74.50</td>\n",
       "      <td>74.97</td>\n",
       "      <td>22128700.0</td>\n",
       "      <td>0.0</td>\n",
       "      <td>1.0</td>\n",
       "      <td>9.66</td>\n",
       "      <td>9.76</td>\n",
       "      <td>9.57</td>\n",
       "      <td>9.63</td>\n",
       "      <td>154900900.0</td>\n",
       "    </tr>\n",
       "    <tr>\n",
       "      <th>2006-01-05</th>\n",
       "      <td>74.83</td>\n",
       "      <td>74.90</td>\n",
       "      <td>73.75</td>\n",
       "      <td>74.38</td>\n",
       "      <td>16050800.0</td>\n",
       "      <td>0.0</td>\n",
       "      <td>1.0</td>\n",
       "      <td>9.62</td>\n",
       "      <td>9.63</td>\n",
       "      <td>9.48</td>\n",
       "      <td>9.56</td>\n",
       "      <td>112355600.0</td>\n",
       "    </tr>\n",
       "    <tr>\n",
       "      <th>2006-01-06</th>\n",
       "      <td>75.24</td>\n",
       "      <td>76.70</td>\n",
       "      <td>74.55</td>\n",
       "      <td>76.30</td>\n",
       "      <td>25159200.0</td>\n",
       "      <td>0.0</td>\n",
       "      <td>1.0</td>\n",
       "      <td>9.67</td>\n",
       "      <td>9.86</td>\n",
       "      <td>9.58</td>\n",
       "      <td>9.81</td>\n",
       "      <td>176114400.0</td>\n",
       "    </tr>\n",
       "    <tr>\n",
       "      <th>2006-01-09</th>\n",
       "      <td>76.73</td>\n",
       "      <td>77.20</td>\n",
       "      <td>75.74</td>\n",
       "      <td>76.05</td>\n",
       "      <td>24108600.0</td>\n",
       "      <td>0.0</td>\n",
       "      <td>1.0</td>\n",
       "      <td>9.86</td>\n",
       "      <td>9.92</td>\n",
       "      <td>9.73</td>\n",
       "      <td>9.77</td>\n",
       "      <td>168760200.0</td>\n",
       "    </tr>\n",
       "  </tbody>\n",
       "</table>\n",
       "</div>"
      ],
      "text/plain": [
       "             Open   High    Low  Close      Volume  Ex-Dividend  Split Ratio  \\\n",
       "Date                                                                           \n",
       "2006-01-03  72.33  74.75  72.25  74.75  28829800.0          0.0          1.0   \n",
       "2006-01-04  75.13  75.98  74.50  74.97  22128700.0          0.0          1.0   \n",
       "2006-01-05  74.83  74.90  73.75  74.38  16050800.0          0.0          1.0   \n",
       "2006-01-06  75.24  76.70  74.55  76.30  25159200.0          0.0          1.0   \n",
       "2006-01-09  76.73  77.20  75.74  76.05  24108600.0          0.0          1.0   \n",
       "\n",
       "            Adj. Open  Adj. High  Adj. Low  Adj. Close  Adj. Volume  \n",
       "Date                                                                 \n",
       "2006-01-03       9.30       9.61      9.29        9.61  201808600.0  \n",
       "2006-01-04       9.66       9.76      9.57        9.63  154900900.0  \n",
       "2006-01-05       9.62       9.63      9.48        9.56  112355600.0  \n",
       "2006-01-06       9.67       9.86      9.58        9.81  176114400.0  \n",
       "2006-01-09       9.86       9.92      9.73        9.77  168760200.0  "
      ]
     },
     "execution_count": 3,
     "metadata": {},
     "output_type": "execute_result"
    }
   ],
   "source": [
    "aapl = quandl.get(\"WIKI/AAPL\", start_date='2006-01-01', end_date='2010-01-01')\n",
    "aapl.head().round(2)"
   ]
  },
  {
   "cell_type": "code",
   "execution_count": 4,
   "metadata": {},
   "outputs": [
    {
     "data": {
      "text/plain": [
       "Timestamp('2006-01-03 00:00:00')"
      ]
     },
     "execution_count": 4,
     "metadata": {},
     "output_type": "execute_result"
    }
   ],
   "source": [
    "aapl.index[0]"
   ]
  },
  {
   "cell_type": "code",
   "execution_count": 5,
   "metadata": {},
   "outputs": [
    {
     "data": {
      "text/html": [
       "<div>\n",
       "<style scoped>\n",
       "    .dataframe tbody tr th:only-of-type {\n",
       "        vertical-align: middle;\n",
       "    }\n",
       "\n",
       "    .dataframe tbody tr th {\n",
       "        vertical-align: top;\n",
       "    }\n",
       "\n",
       "    .dataframe thead th {\n",
       "        text-align: right;\n",
       "    }\n",
       "</style>\n",
       "<table border=\"1\" class=\"dataframe\">\n",
       "  <thead>\n",
       "    <tr style=\"text-align: right;\">\n",
       "      <th></th>\n",
       "      <th>Open</th>\n",
       "      <th>High</th>\n",
       "      <th>Low</th>\n",
       "      <th>Close</th>\n",
       "      <th>Volume</th>\n",
       "      <th>Ex-Dividend</th>\n",
       "      <th>Split Ratio</th>\n",
       "      <th>Adj. Open</th>\n",
       "      <th>Adj. High</th>\n",
       "      <th>Adj. Low</th>\n",
       "      <th>Adj. Close</th>\n",
       "      <th>Adj. Volume</th>\n",
       "    </tr>\n",
       "    <tr>\n",
       "      <th>Date</th>\n",
       "      <th></th>\n",
       "      <th></th>\n",
       "      <th></th>\n",
       "      <th></th>\n",
       "      <th></th>\n",
       "      <th></th>\n",
       "      <th></th>\n",
       "      <th></th>\n",
       "      <th></th>\n",
       "      <th></th>\n",
       "      <th></th>\n",
       "      <th></th>\n",
       "    </tr>\n",
       "  </thead>\n",
       "  <tbody>\n",
       "    <tr>\n",
       "      <th>2006-01-03</th>\n",
       "      <td>72.332</td>\n",
       "      <td>74.75</td>\n",
       "      <td>72.25</td>\n",
       "      <td>74.75</td>\n",
       "      <td>28829800.0</td>\n",
       "      <td>0.0</td>\n",
       "      <td>1.0</td>\n",
       "      <td>9.295670</td>\n",
       "      <td>9.606417</td>\n",
       "      <td>9.285132</td>\n",
       "      <td>9.606417</td>\n",
       "      <td>201808600.0</td>\n",
       "    </tr>\n",
       "    <tr>\n",
       "      <th>2006-01-04</th>\n",
       "      <td>75.130</td>\n",
       "      <td>75.98</td>\n",
       "      <td>74.50</td>\n",
       "      <td>74.97</td>\n",
       "      <td>22128700.0</td>\n",
       "      <td>0.0</td>\n",
       "      <td>1.0</td>\n",
       "      <td>9.655252</td>\n",
       "      <td>9.764489</td>\n",
       "      <td>9.574288</td>\n",
       "      <td>9.634690</td>\n",
       "      <td>154900900.0</td>\n",
       "    </tr>\n",
       "    <tr>\n",
       "      <th>2006-01-05</th>\n",
       "      <td>74.830</td>\n",
       "      <td>74.90</td>\n",
       "      <td>73.75</td>\n",
       "      <td>74.38</td>\n",
       "      <td>16050800.0</td>\n",
       "      <td>0.0</td>\n",
       "      <td>1.0</td>\n",
       "      <td>9.616698</td>\n",
       "      <td>9.625694</td>\n",
       "      <td>9.477903</td>\n",
       "      <td>9.558867</td>\n",
       "      <td>112355600.0</td>\n",
       "    </tr>\n",
       "  </tbody>\n",
       "</table>\n",
       "</div>"
      ],
      "text/plain": [
       "              Open   High    Low  Close      Volume  Ex-Dividend  Split Ratio  \\\n",
       "Date                                                                            \n",
       "2006-01-03  72.332  74.75  72.25  74.75  28829800.0          0.0          1.0   \n",
       "2006-01-04  75.130  75.98  74.50  74.97  22128700.0          0.0          1.0   \n",
       "2006-01-05  74.830  74.90  73.75  74.38  16050800.0          0.0          1.0   \n",
       "\n",
       "            Adj. Open  Adj. High  Adj. Low  Adj. Close  Adj. Volume  \n",
       "Date                                                                 \n",
       "2006-01-03   9.295670   9.606417  9.285132    9.606417  201808600.0  \n",
       "2006-01-04   9.655252   9.764489  9.574288    9.634690  154900900.0  \n",
       "2006-01-05   9.616698   9.625694  9.477903    9.558867  112355600.0  "
      ]
     },
     "execution_count": 5,
     "metadata": {},
     "output_type": "execute_result"
    }
   ],
   "source": [
    "aapl.loc[pd.Timestamp('2006-01-01'):pd.Timestamp('2006-12-31')].head(3)"
   ]
  },
  {
   "cell_type": "code",
   "execution_count": 6,
   "metadata": {},
   "outputs": [
    {
     "data": {
      "text/html": [
       "<div>\n",
       "<style scoped>\n",
       "    .dataframe tbody tr th:only-of-type {\n",
       "        vertical-align: middle;\n",
       "    }\n",
       "\n",
       "    .dataframe tbody tr th {\n",
       "        vertical-align: top;\n",
       "    }\n",
       "\n",
       "    .dataframe thead th {\n",
       "        text-align: right;\n",
       "    }\n",
       "</style>\n",
       "<table border=\"1\" class=\"dataframe\">\n",
       "  <thead>\n",
       "    <tr style=\"text-align: right;\">\n",
       "      <th></th>\n",
       "      <th>Open</th>\n",
       "      <th>High</th>\n",
       "      <th>Low</th>\n",
       "      <th>Close</th>\n",
       "      <th>Volume</th>\n",
       "      <th>Ex-Dividend</th>\n",
       "      <th>Split Ratio</th>\n",
       "      <th>Adj. Open</th>\n",
       "      <th>Adj. High</th>\n",
       "      <th>Adj. Low</th>\n",
       "      <th>Adj. Close</th>\n",
       "      <th>Adj. Volume</th>\n",
       "    </tr>\n",
       "    <tr>\n",
       "      <th>Date</th>\n",
       "      <th></th>\n",
       "      <th></th>\n",
       "      <th></th>\n",
       "      <th></th>\n",
       "      <th></th>\n",
       "      <th></th>\n",
       "      <th></th>\n",
       "      <th></th>\n",
       "      <th></th>\n",
       "      <th></th>\n",
       "      <th></th>\n",
       "      <th></th>\n",
       "    </tr>\n",
       "  </thead>\n",
       "  <tbody>\n",
       "    <tr>\n",
       "      <th>2006-01-03</th>\n",
       "      <td>72.332</td>\n",
       "      <td>74.75</td>\n",
       "      <td>72.25</td>\n",
       "      <td>74.75</td>\n",
       "      <td>28829800.0</td>\n",
       "      <td>0.0</td>\n",
       "      <td>1.0</td>\n",
       "      <td>9.295670</td>\n",
       "      <td>9.606417</td>\n",
       "      <td>9.285132</td>\n",
       "      <td>9.606417</td>\n",
       "      <td>201808600.0</td>\n",
       "    </tr>\n",
       "    <tr>\n",
       "      <th>2006-01-04</th>\n",
       "      <td>75.130</td>\n",
       "      <td>75.98</td>\n",
       "      <td>74.50</td>\n",
       "      <td>74.97</td>\n",
       "      <td>22128700.0</td>\n",
       "      <td>0.0</td>\n",
       "      <td>1.0</td>\n",
       "      <td>9.655252</td>\n",
       "      <td>9.764489</td>\n",
       "      <td>9.574288</td>\n",
       "      <td>9.634690</td>\n",
       "      <td>154900900.0</td>\n",
       "    </tr>\n",
       "    <tr>\n",
       "      <th>2006-01-05</th>\n",
       "      <td>74.830</td>\n",
       "      <td>74.90</td>\n",
       "      <td>73.75</td>\n",
       "      <td>74.38</td>\n",
       "      <td>16050800.0</td>\n",
       "      <td>0.0</td>\n",
       "      <td>1.0</td>\n",
       "      <td>9.616698</td>\n",
       "      <td>9.625694</td>\n",
       "      <td>9.477903</td>\n",
       "      <td>9.558867</td>\n",
       "      <td>112355600.0</td>\n",
       "    </tr>\n",
       "  </tbody>\n",
       "</table>\n",
       "</div>"
      ],
      "text/plain": [
       "              Open   High    Low  Close      Volume  Ex-Dividend  Split Ratio  \\\n",
       "Date                                                                            \n",
       "2006-01-03  72.332  74.75  72.25  74.75  28829800.0          0.0          1.0   \n",
       "2006-01-04  75.130  75.98  74.50  74.97  22128700.0          0.0          1.0   \n",
       "2006-01-05  74.830  74.90  73.75  74.38  16050800.0          0.0          1.0   \n",
       "\n",
       "            Adj. Open  Adj. High  Adj. Low  Adj. Close  Adj. Volume  \n",
       "Date                                                                 \n",
       "2006-01-03   9.295670   9.606417  9.285132    9.606417  201808600.0  \n",
       "2006-01-04   9.655252   9.764489  9.574288    9.634690  154900900.0  \n",
       "2006-01-05   9.616698   9.625694  9.477903    9.558867  112355600.0  "
      ]
     },
     "execution_count": 6,
     "metadata": {},
     "output_type": "execute_result"
    }
   ],
   "source": [
    "# Use partial indexing to accomplish the same.\n",
    "aapl.loc['2006'].head(3)"
   ]
  },
  {
   "cell_type": "markdown",
   "metadata": {},
   "source": [
    "### Resampling"
   ]
  },
  {
   "cell_type": "code",
   "execution_count": 7,
   "metadata": {},
   "outputs": [
    {
     "data": {
      "text/html": [
       "<div>\n",
       "<style scoped>\n",
       "    .dataframe tbody tr th:only-of-type {\n",
       "        vertical-align: middle;\n",
       "    }\n",
       "\n",
       "    .dataframe tbody tr th {\n",
       "        vertical-align: top;\n",
       "    }\n",
       "\n",
       "    .dataframe thead th {\n",
       "        text-align: right;\n",
       "    }\n",
       "</style>\n",
       "<table border=\"1\" class=\"dataframe\">\n",
       "  <thead>\n",
       "    <tr style=\"text-align: right;\">\n",
       "      <th></th>\n",
       "      <th>Open</th>\n",
       "      <th>High</th>\n",
       "      <th>Low</th>\n",
       "      <th>Close</th>\n",
       "      <th>Volume</th>\n",
       "      <th>Ex-Dividend</th>\n",
       "      <th>Split Ratio</th>\n",
       "      <th>Adj. Open</th>\n",
       "      <th>Adj. High</th>\n",
       "      <th>Adj. Low</th>\n",
       "      <th>Adj. Close</th>\n",
       "      <th>Adj. Volume</th>\n",
       "    </tr>\n",
       "    <tr>\n",
       "      <th>Date</th>\n",
       "      <th></th>\n",
       "      <th></th>\n",
       "      <th></th>\n",
       "      <th></th>\n",
       "      <th></th>\n",
       "      <th></th>\n",
       "      <th></th>\n",
       "      <th></th>\n",
       "      <th></th>\n",
       "      <th></th>\n",
       "      <th></th>\n",
       "      <th></th>\n",
       "    </tr>\n",
       "  </thead>\n",
       "  <tbody>\n",
       "    <tr>\n",
       "      <th>2006-01-03</th>\n",
       "      <td>74.3830</td>\n",
       "      <td>75.5825</td>\n",
       "      <td>73.7625</td>\n",
       "      <td>75.10000</td>\n",
       "      <td>23042125.0</td>\n",
       "      <td>0.0</td>\n",
       "      <td>1.0</td>\n",
       "      <td>9.559252</td>\n",
       "      <td>9.713405</td>\n",
       "      <td>9.479509</td>\n",
       "      <td>9.651397</td>\n",
       "      <td>161294875.0</td>\n",
       "    </tr>\n",
       "    <tr>\n",
       "      <th>2006-01-08</th>\n",
       "      <td>80.4475</td>\n",
       "      <td>82.5725</td>\n",
       "      <td>79.4450</td>\n",
       "      <td>81.27525</td>\n",
       "      <td>51156375.0</td>\n",
       "      <td>0.0</td>\n",
       "      <td>1.0</td>\n",
       "      <td>10.338625</td>\n",
       "      <td>10.611717</td>\n",
       "      <td>10.209790</td>\n",
       "      <td>10.445002</td>\n",
       "      <td>358094625.0</td>\n",
       "    </tr>\n",
       "  </tbody>\n",
       "</table>\n",
       "</div>"
      ],
      "text/plain": [
       "               Open     High      Low     Close      Volume  Ex-Dividend  \\\n",
       "Date                                                                       \n",
       "2006-01-03  74.3830  75.5825  73.7625  75.10000  23042125.0          0.0   \n",
       "2006-01-08  80.4475  82.5725  79.4450  81.27525  51156375.0          0.0   \n",
       "\n",
       "            Split Ratio  Adj. Open  Adj. High   Adj. Low  Adj. Close  \\\n",
       "Date                                                                   \n",
       "2006-01-03          1.0   9.559252   9.713405   9.479509    9.651397   \n",
       "2006-01-08          1.0  10.338625  10.611717  10.209790   10.445002   \n",
       "\n",
       "            Adj. Volume  \n",
       "Date                     \n",
       "2006-01-03  161294875.0  \n",
       "2006-01-08  358094625.0  "
      ]
     },
     "execution_count": 7,
     "metadata": {},
     "output_type": "execute_result"
    }
   ],
   "source": [
    "aapl.resample(\"5d\").mean().head(2)"
   ]
  },
  {
   "cell_type": "code",
   "execution_count": 8,
   "metadata": {},
   "outputs": [
    {
     "data": {
      "text/html": [
       "<div>\n",
       "<style scoped>\n",
       "    .dataframe tbody tr th:only-of-type {\n",
       "        vertical-align: middle;\n",
       "    }\n",
       "\n",
       "    .dataframe tbody tr th {\n",
       "        vertical-align: top;\n",
       "    }\n",
       "\n",
       "    .dataframe thead tr th {\n",
       "        text-align: left;\n",
       "    }\n",
       "\n",
       "    .dataframe thead tr:last-of-type th {\n",
       "        text-align: right;\n",
       "    }\n",
       "</style>\n",
       "<table border=\"1\" class=\"dataframe\">\n",
       "  <thead>\n",
       "    <tr>\n",
       "      <th></th>\n",
       "      <th colspan=\"2\" halign=\"left\">Open</th>\n",
       "      <th colspan=\"2\" halign=\"left\">High</th>\n",
       "      <th colspan=\"2\" halign=\"left\">Low</th>\n",
       "      <th colspan=\"2\" halign=\"left\">Close</th>\n",
       "      <th colspan=\"2\" halign=\"left\">Volume</th>\n",
       "      <th>...</th>\n",
       "      <th colspan=\"2\" halign=\"left\">Adj. Open</th>\n",
       "      <th colspan=\"2\" halign=\"left\">Adj. High</th>\n",
       "      <th colspan=\"2\" halign=\"left\">Adj. Low</th>\n",
       "      <th colspan=\"2\" halign=\"left\">Adj. Close</th>\n",
       "      <th colspan=\"2\" halign=\"left\">Adj. Volume</th>\n",
       "    </tr>\n",
       "    <tr>\n",
       "      <th></th>\n",
       "      <th>mean</th>\n",
       "      <th>var</th>\n",
       "      <th>mean</th>\n",
       "      <th>var</th>\n",
       "      <th>mean</th>\n",
       "      <th>var</th>\n",
       "      <th>mean</th>\n",
       "      <th>var</th>\n",
       "      <th>mean</th>\n",
       "      <th>var</th>\n",
       "      <th>...</th>\n",
       "      <th>mean</th>\n",
       "      <th>var</th>\n",
       "      <th>mean</th>\n",
       "      <th>var</th>\n",
       "      <th>mean</th>\n",
       "      <th>var</th>\n",
       "      <th>mean</th>\n",
       "      <th>var</th>\n",
       "      <th>mean</th>\n",
       "      <th>var</th>\n",
       "    </tr>\n",
       "    <tr>\n",
       "      <th>Date</th>\n",
       "      <th></th>\n",
       "      <th></th>\n",
       "      <th></th>\n",
       "      <th></th>\n",
       "      <th></th>\n",
       "      <th></th>\n",
       "      <th></th>\n",
       "      <th></th>\n",
       "      <th></th>\n",
       "      <th></th>\n",
       "      <th></th>\n",
       "      <th></th>\n",
       "      <th></th>\n",
       "      <th></th>\n",
       "      <th></th>\n",
       "      <th></th>\n",
       "      <th></th>\n",
       "      <th></th>\n",
       "      <th></th>\n",
       "      <th></th>\n",
       "      <th></th>\n",
       "    </tr>\n",
       "  </thead>\n",
       "  <tbody>\n",
       "    <tr>\n",
       "      <th>2006-01-03</th>\n",
       "      <td>77.41525</td>\n",
       "      <td>20.379438</td>\n",
       "      <td>79.07750</td>\n",
       "      <td>21.318136</td>\n",
       "      <td>76.603750</td>\n",
       "      <td>17.450055</td>\n",
       "      <td>78.187625</td>\n",
       "      <td>17.403565</td>\n",
       "      <td>37099250.0</td>\n",
       "      <td>4.786190e+14</td>\n",
       "      <td>...</td>\n",
       "      <td>9.948939</td>\n",
       "      <td>0.336583</td>\n",
       "      <td>10.162561</td>\n",
       "      <td>0.352087</td>\n",
       "      <td>9.844650</td>\n",
       "      <td>0.288202</td>\n",
       "      <td>10.048200</td>\n",
       "      <td>0.287434</td>\n",
       "      <td>259694750.0</td>\n",
       "      <td>2.345233e+16</td>\n",
       "    </tr>\n",
       "    <tr>\n",
       "      <th>2006-01-13</th>\n",
       "      <td>82.86000</td>\n",
       "      <td>7.014850</td>\n",
       "      <td>83.62800</td>\n",
       "      <td>7.543070</td>\n",
       "      <td>80.978000</td>\n",
       "      <td>13.438370</td>\n",
       "      <td>81.582820</td>\n",
       "      <td>15.833293</td>\n",
       "      <td>40308380.0</td>\n",
       "      <td>1.712194e+14</td>\n",
       "      <td>...</td>\n",
       "      <td>10.648665</td>\n",
       "      <td>0.115856</td>\n",
       "      <td>10.747364</td>\n",
       "      <td>0.124580</td>\n",
       "      <td>10.406802</td>\n",
       "      <td>0.221946</td>\n",
       "      <td>10.484529</td>\n",
       "      <td>0.261500</td>\n",
       "      <td>282158660.0</td>\n",
       "      <td>8.389751e+15</td>\n",
       "    </tr>\n",
       "    <tr>\n",
       "      <th>2006-01-23</th>\n",
       "      <td>75.18125</td>\n",
       "      <td>5.651184</td>\n",
       "      <td>76.86375</td>\n",
       "      <td>3.917655</td>\n",
       "      <td>73.413737</td>\n",
       "      <td>3.987039</td>\n",
       "      <td>74.775000</td>\n",
       "      <td>3.547400</td>\n",
       "      <td>37706037.5</td>\n",
       "      <td>9.210484e+13</td>\n",
       "      <td>...</td>\n",
       "      <td>9.661838</td>\n",
       "      <td>0.093334</td>\n",
       "      <td>9.878063</td>\n",
       "      <td>0.064703</td>\n",
       "      <td>9.434688</td>\n",
       "      <td>0.065849</td>\n",
       "      <td>9.609630</td>\n",
       "      <td>0.058588</td>\n",
       "      <td>263942262.5</td>\n",
       "      <td>4.513137e+15</td>\n",
       "    </tr>\n",
       "  </tbody>\n",
       "</table>\n",
       "<p>3 rows × 24 columns</p>\n",
       "</div>"
      ],
      "text/plain": [
       "                Open                 High                   Low             \\\n",
       "                mean        var      mean        var       mean        var   \n",
       "Date                                                                         \n",
       "2006-01-03  77.41525  20.379438  79.07750  21.318136  76.603750  17.450055   \n",
       "2006-01-13  82.86000   7.014850  83.62800   7.543070  80.978000  13.438370   \n",
       "2006-01-23  75.18125   5.651184  76.86375   3.917655  73.413737   3.987039   \n",
       "\n",
       "                Close                 Volume                    ...       \\\n",
       "                 mean        var        mean           var      ...        \n",
       "Date                                                            ...        \n",
       "2006-01-03  78.187625  17.403565  37099250.0  4.786190e+14      ...        \n",
       "2006-01-13  81.582820  15.833293  40308380.0  1.712194e+14      ...        \n",
       "2006-01-23  74.775000   3.547400  37706037.5  9.210484e+13      ...        \n",
       "\n",
       "            Adj. Open            Adj. High             Adj. Low            \\\n",
       "                 mean       var       mean       var       mean       var   \n",
       "Date                                                                        \n",
       "2006-01-03   9.948939  0.336583  10.162561  0.352087   9.844650  0.288202   \n",
       "2006-01-13  10.648665  0.115856  10.747364  0.124580  10.406802  0.221946   \n",
       "2006-01-23   9.661838  0.093334   9.878063  0.064703   9.434688  0.065849   \n",
       "\n",
       "           Adj. Close            Adj. Volume                \n",
       "                 mean       var         mean           var  \n",
       "Date                                                        \n",
       "2006-01-03  10.048200  0.287434  259694750.0  2.345233e+16  \n",
       "2006-01-13  10.484529  0.261500  282158660.0  8.389751e+15  \n",
       "2006-01-23   9.609630  0.058588  263942262.5  4.513137e+15  \n",
       "\n",
       "[3 rows x 24 columns]"
      ]
     },
     "execution_count": 8,
     "metadata": {},
     "output_type": "execute_result"
    }
   ],
   "source": [
    "aapl.resample(\"10d\").agg(['mean', 'var']).head(3)"
   ]
  },
  {
   "cell_type": "markdown",
   "metadata": {},
   "source": [
    "### Rolling"
   ]
  },
  {
   "cell_type": "code",
   "execution_count": 9,
   "metadata": {},
   "outputs": [
    {
     "data": {
      "image/png": "[encoded data removed]",
      "text/plain": [
       "<matplotlib.figure.Figure at 0x7f1c0bde2fd0>"
      ]
     },
     "metadata": {},
     "output_type": "display_data"
    }
   ],
   "source": [
    "aapl.Close.plot(label='Raw')\n",
    "aapl.Close.rolling(30).mean().plot(label='30D MA')\n",
    "aapl.Close.rolling(90).mean().plot(label='90D MA')\n",
    "aapl.Close.rolling(180).mean().plot(label='180D MA')\n",
    "aapl.Close.expanding().mean().plot(label='Expanding Average')\n",
    "aapl.Close.ewm(alpha=0.03).mean().plot(label='EWMA($\\\\alpha=.03$)')\n",
    "\n",
    "plt.legend(bbox_to_anchor=(1.25, .5))\n",
    "plt.tight_layout()\n",
    "plt.ylabel(\"Close ($)\")\n",
    "sns.despine()"
   ]
  },
  {
   "cell_type": "code",
   "execution_count": 10,
   "metadata": {},
   "outputs": [
    {
     "data": {
      "text/plain": [
       "Rolling [window=30,center=True,axis=0]"
      ]
     },
     "execution_count": 10,
     "metadata": {},
     "output_type": "execute_result"
    }
   ],
   "source": [
    "# Returns a deferred object.\n",
    "roll = aapl.Close.rolling(30, center=True)\n",
    "roll\n"
   ]
  },
  {
   "cell_type": "code",
   "execution_count": 11,
   "metadata": {},
   "outputs": [
    {
     "data": {
      "image/png": "[encoded data removed]",
      "text/plain": [
       "<matplotlib.figure.Figure at 0x7f1c0bdbd9e8>"
      ]
     },
     "metadata": {},
     "output_type": "display_data"
    }
   ],
   "source": [
    "m = roll.agg(['mean', 'std'])\n",
    "ax = m['mean'].plot()\n",
    "ax.fill_between(m.index, m['mean'] - m['std'], m['mean'] + m['std'],\n",
    "                alpha=.25)\n",
    "plt.tight_layout()\n",
    "plt.ylabel(\"Close ($)\")\n",
    "sns.despine()"
   ]
  },
  {
   "cell_type": "markdown",
   "metadata": {},
   "source": [
    "### Shift"
   ]
  },
  {
   "cell_type": "code",
   "execution_count": 12,
   "metadata": {},
   "outputs": [
    {
     "data": {
      "text/plain": [
       "DatetimeIndex(['2006-01-03', '2006-01-04', '2006-01-05', '2006-01-06',\n",
       "               '2006-01-09', '2006-01-10', '2006-01-11', '2006-01-12',\n",
       "               '2006-01-13', '2006-01-17',\n",
       "               ...\n",
       "               '2009-12-17', '2009-12-18', '2009-12-21', '2009-12-22',\n",
       "               '2009-12-23', '2009-12-24', '2009-12-28', '2009-12-29',\n",
       "               '2009-12-30', '2009-12-31'],\n",
       "              dtype='datetime64[ns]', name='Date', length=1007, freq=None)"
      ]
     },
     "execution_count": 12,
     "metadata": {},
     "output_type": "execute_result"
    }
   ],
   "source": [
    "aapl.index"
   ]
  },
  {
   "cell_type": "code",
   "execution_count": 13,
   "metadata": {},
   "outputs": [
    {
     "data": {
      "text/plain": [
       "DatetimeIndex(['2006-04-01', '2006-04-02', '2006-04-03', '2006-04-04',\n",
       "               '2006-04-07', '2006-04-08', '2006-04-09', '2006-04-10',\n",
       "               '2006-04-11', '2006-04-15',\n",
       "               ...\n",
       "               '2010-03-15', '2010-03-16', '2010-03-19', '2010-03-20',\n",
       "               '2010-03-21', '2010-03-22', '2010-03-26', '2010-03-27',\n",
       "               '2010-03-28', '2010-03-29'],\n",
       "              dtype='datetime64[ns]', name='Date', length=1007, freq=None)"
      ]
     },
     "execution_count": 13,
     "metadata": {},
     "output_type": "execute_result"
    }
   ],
   "source": [
    "aapl.index + pd.DateOffset(months=3, days=-2) # Offset by 3months minus 2 days"
   ]
  },
  {
   "cell_type": "markdown",
   "metadata": {},
   "source": [
    "### Holidays"
   ]
  },
  {
   "cell_type": "code",
   "execution_count": 14,
   "metadata": {},
   "outputs": [],
   "source": [
    "from pandas.tseries.holiday import USColumbusDay"
   ]
  },
  {
   "cell_type": "code",
   "execution_count": 15,
   "metadata": {},
   "outputs": [
    {
     "data": {
      "text/plain": [
       "DatetimeIndex(['2015-10-12', '2016-10-10', '2017-10-09', '2018-10-08',\n",
       "               '2019-10-14'],\n",
       "              dtype='datetime64[ns]', freq='WOM-2MON')"
      ]
     },
     "execution_count": 15,
     "metadata": {},
     "output_type": "execute_result"
    }
   ],
   "source": [
    "USColumbusDay.dates('2015-01-01', '2020-01-01')"
   ]
  },
  {
   "cell_type": "code",
   "execution_count": 16,
   "metadata": {},
   "outputs": [],
   "source": [
    "from sklearn.model_selection import GridSearchCV\n",
    "from sklearn.model_selection import StratifiedShuffleSplit\n",
    "from sklearn.model_selection import train_test_split\n",
    "from sklearn.preprocessing import StandardScaler\n",
    "from sklearn.decomposition import PCA\n",
    "from sklearn.pipeline import Pipeline\n",
    "from sklearn.externals import joblib\n",
    "from sklearn.linear_model import LogisticRegression, LinearRegression\n",
    "from sklearn import svm\n",
    "\n",
    "import numpy as np"
   ]
  },
  {
   "cell_type": "code",
   "execution_count": 17,
   "metadata": {},
   "outputs": [],
   "source": [
    "y = aapl['Adj. Close']"
   ]
  },
  {
   "cell_type": "code",
   "execution_count": 18,
   "metadata": {},
   "outputs": [
    {
     "name": "stdout",
     "output_type": "stream",
     "text": [
      "(1002, 5)\n",
      "(1002,)\n"
     ]
    },
    {
     "data": {
      "text/html": [
       "<div>\n",
       "<style scoped>\n",
       "    .dataframe tbody tr th:only-of-type {\n",
       "        vertical-align: middle;\n",
       "    }\n",
       "\n",
       "    .dataframe tbody tr th {\n",
       "        vertical-align: top;\n",
       "    }\n",
       "\n",
       "    .dataframe thead th {\n",
       "        text-align: right;\n",
       "    }\n",
       "</style>\n",
       "<table border=\"1\" class=\"dataframe\">\n",
       "  <thead>\n",
       "    <tr style=\"text-align: right;\">\n",
       "      <th></th>\n",
       "      <th>L1</th>\n",
       "      <th>L2</th>\n",
       "      <th>L3</th>\n",
       "      <th>L4</th>\n",
       "      <th>L5</th>\n",
       "    </tr>\n",
       "    <tr>\n",
       "      <th>Date</th>\n",
       "      <th></th>\n",
       "      <th></th>\n",
       "      <th></th>\n",
       "      <th></th>\n",
       "      <th></th>\n",
       "    </tr>\n",
       "  </thead>\n",
       "  <tbody>\n",
       "    <tr>\n",
       "      <th>2006-01-10</th>\n",
       "      <td>9.773485</td>\n",
       "      <td>9.805613</td>\n",
       "      <td>9.558867</td>\n",
       "      <td>9.634690</td>\n",
       "      <td>9.606417</td>\n",
       "    </tr>\n",
       "    <tr>\n",
       "      <th>2006-01-11</th>\n",
       "      <td>10.391637</td>\n",
       "      <td>9.773485</td>\n",
       "      <td>9.805613</td>\n",
       "      <td>9.558867</td>\n",
       "      <td>9.634690</td>\n",
       "    </tr>\n",
       "    <tr>\n",
       "      <th>2006-01-12</th>\n",
       "      <td>10.782319</td>\n",
       "      <td>10.391637</td>\n",
       "      <td>9.773485</td>\n",
       "      <td>9.805613</td>\n",
       "      <td>9.558867</td>\n",
       "    </tr>\n",
       "    <tr>\n",
       "      <th>2006-01-13</th>\n",
       "      <td>10.832568</td>\n",
       "      <td>10.782319</td>\n",
       "      <td>10.391637</td>\n",
       "      <td>9.773485</td>\n",
       "      <td>9.805613</td>\n",
       "    </tr>\n",
       "    <tr>\n",
       "      <th>2006-01-17</th>\n",
       "      <td>10.999495</td>\n",
       "      <td>10.832568</td>\n",
       "      <td>10.782319</td>\n",
       "      <td>10.391637</td>\n",
       "      <td>9.773485</td>\n",
       "    </tr>\n",
       "  </tbody>\n",
       "</table>\n",
       "</div>"
      ],
      "text/plain": [
       "                   L1         L2         L3         L4        L5\n",
       "Date                                                            \n",
       "2006-01-10   9.773485   9.805613   9.558867   9.634690  9.606417\n",
       "2006-01-11  10.391637   9.773485   9.805613   9.558867  9.634690\n",
       "2006-01-12  10.782319  10.391637   9.773485   9.805613  9.558867\n",
       "2006-01-13  10.832568  10.782319  10.391637   9.773485  9.805613\n",
       "2006-01-17  10.999495  10.832568  10.782319  10.391637  9.773485"
      ]
     },
     "execution_count": 18,
     "metadata": {},
     "output_type": "execute_result"
    }
   ],
   "source": [
    "# Create new data set...each lable \n",
    "X = (pd.concat([y.shift(i) for i in range(6)], axis=1,\n",
    "               keys=['y'] + ['L%s' % i for i in range(1, 6)])\n",
    "       .dropna())\n",
    "y = X.pop('y')\n",
    "print(X.shape)\n",
    "print(y.shape)\n",
    "X.head()"
   ]
  },
  {
   "cell_type": "code",
   "execution_count": 19,
   "metadata": {},
   "outputs": [],
   "source": [
    "regr = LinearRegression()"
   ]
  },
  {
   "cell_type": "code",
   "execution_count": 20,
   "metadata": {},
   "outputs": [
    {
     "name": "stdout",
     "output_type": "stream",
     "text": [
      "Intercept: 0.007456936377266743, Coefficient: [ 0.96587182 -0.03437684  0.0643042   0.07502318 -0.07026481]\n"
     ]
    }
   ],
   "source": [
    "X_train, X_test, y_train, y_test = train_test_split(X, y, test_size=0.20, random_state=42)\n",
    "regr.fit(X_train,y_train)\n",
    "print(\"Intercept: {}, Coefficient: {}\".format(regr.intercept_, regr.coef_))"
   ]
  },
  {
   "cell_type": "code",
   "execution_count": 21,
   "metadata": {},
   "outputs": [],
   "source": [
    "y_predict = regr.predict(X_test)"
   ]
  },
  {
   "cell_type": "code",
   "execution_count": 22,
   "metadata": {},
   "outputs": [
    {
     "data": {
      "text/plain": [
       "0.43060428141520019"
      ]
     },
     "execution_count": 22,
     "metadata": {},
     "output_type": "execute_result"
    }
   ],
   "source": [
    "rmse = lambda y, y_: np.sqrt(np.mean((y-y_)**2))\n",
    "# The results evaluated by RMSE is quite poor.\n",
    "rmse(y_predict, y_test)"
   ]
  },
  {
   "cell_type": "code",
   "execution_count": 23,
   "metadata": {},
   "outputs": [
    {
     "data": {
      "image/png": "[encoded data removed]",
      "text/plain": [
       "<matplotlib.figure.Figure at 0x7f1c09429a58>"
      ]
     },
     "metadata": {},
     "output_type": "display_data"
    }
   ],
   "source": [
    "# Features are highly correlated as one would expect.\n",
    "# The independent variables having a linear relationship is characterized by multicollinearity\n",
    "sns.heatmap(X_train.corr());\n"
   ]
  },
  {
   "cell_type": "code",
   "execution_count": 43,
   "metadata": {},
   "outputs": [],
   "source": [
    "from statsmodels import regression\n",
    "import statsmodels.api as sm\n",
    "import statsmodels.tsa.api as smt\n",
    "import statsmodels.formula.api as smf"
   ]
  },
  {
   "cell_type": "code",
   "execution_count": 44,
   "metadata": {},
   "outputs": [
    {
     "data": {
      "text/html": [
       "<table class=\"simpletable\">\n",
       "<caption>OLS Regression Results</caption>\n",
       "<tr>\n",
       "  <th>Dep. Variable:</th>            <td>y</td>        <th>  R-squared:         </th> <td>   0.994</td> \n",
       "</tr>\n",
       "<tr>\n",
       "  <th>Model:</th>                   <td>OLS</td>       <th>  Adj. R-squared:    </th> <td>   0.994</td> \n",
       "</tr>\n",
       "<tr>\n",
       "  <th>Method:</th>             <td>Least Squares</td>  <th>  F-statistic:       </th> <td>2.805e+04</td>\n",
       "</tr>\n",
       "<tr>\n",
       "  <th>Date:</th>             <td>Sat, 16 Dec 2017</td> <th>  Prob (F-statistic):</th>  <td>  0.00</td>  \n",
       "</tr>\n",
       "<tr>\n",
       "  <th>Time:</th>                 <td>00:59:44</td>     <th>  Log-Likelihood:    </th> <td> -452.36</td> \n",
       "</tr>\n",
       "<tr>\n",
       "  <th>No. Observations:</th>      <td>   801</td>      <th>  AIC:               </th> <td>   916.7</td> \n",
       "</tr>\n",
       "<tr>\n",
       "  <th>Df Residuals:</th>          <td>   795</td>      <th>  BIC:               </th> <td>   944.8</td> \n",
       "</tr>\n",
       "<tr>\n",
       "  <th>Df Model:</th>              <td>     5</td>      <th>                     </th>     <td> </td>    \n",
       "</tr>\n",
       "<tr>\n",
       "  <th>Covariance Type:</th>      <td>nonrobust</td>    <th>                     </th>     <td> </td>    \n",
       "</tr>\n",
       "</table>\n",
       "<table class=\"simpletable\">\n",
       "<tr>\n",
       "    <td></td>       <th>coef</th>     <th>std err</th>      <th>t</th>      <th>P>|t|</th>  <th>[0.025</th>    <th>0.975]</th>  \n",
       "</tr>\n",
       "<tr>\n",
       "  <th>const</th> <td>    0.0075</td> <td>    0.045</td> <td>    0.167</td> <td> 0.868</td> <td>   -0.080</td> <td>    0.095</td>\n",
       "</tr>\n",
       "<tr>\n",
       "  <th>L1</th>    <td>    0.9659</td> <td>    0.034</td> <td>   28.147</td> <td> 0.000</td> <td>    0.899</td> <td>    1.033</td>\n",
       "</tr>\n",
       "<tr>\n",
       "  <th>L2</th>    <td>   -0.0344</td> <td>    0.049</td> <td>   -0.704</td> <td> 0.482</td> <td>   -0.130</td> <td>    0.061</td>\n",
       "</tr>\n",
       "<tr>\n",
       "  <th>L3</th>    <td>    0.0643</td> <td>    0.049</td> <td>    1.314</td> <td> 0.189</td> <td>   -0.032</td> <td>    0.160</td>\n",
       "</tr>\n",
       "<tr>\n",
       "  <th>L4</th>    <td>    0.0750</td> <td>    0.050</td> <td>    1.508</td> <td> 0.132</td> <td>   -0.023</td> <td>    0.173</td>\n",
       "</tr>\n",
       "<tr>\n",
       "  <th>L5</th>    <td>   -0.0703</td> <td>    0.034</td> <td>   -2.037</td> <td> 0.042</td> <td>   -0.138</td> <td>   -0.003</td>\n",
       "</tr>\n",
       "</table>\n",
       "<table class=\"simpletable\">\n",
       "<tr>\n",
       "  <th>Omnibus:</th>       <td>133.748</td> <th>  Durbin-Watson:     </th> <td>   2.073</td> \n",
       "</tr>\n",
       "<tr>\n",
       "  <th>Prob(Omnibus):</th> <td> 0.000</td>  <th>  Jarque-Bera (JB):  </th> <td> 731.970</td> \n",
       "</tr>\n",
       "<tr>\n",
       "  <th>Skew:</th>          <td>-0.627</td>  <th>  Prob(JB):          </th> <td>1.13e-159</td>\n",
       "</tr>\n",
       "<tr>\n",
       "  <th>Kurtosis:</th>      <td> 7.512</td>  <th>  Cond. No.          </th> <td>    165.</td> \n",
       "</tr>\n",
       "</table>"
      ],
      "text/plain": [
       "<class 'statsmodels.iolib.summary.Summary'>\n",
       "\"\"\"\n",
       "                            OLS Regression Results                            \n",
       "==============================================================================\n",
       "Dep. Variable:                      y   R-squared:                       0.994\n",
       "Model:                            OLS   Adj. R-squared:                  0.994\n",
       "Method:                 Least Squares   F-statistic:                 2.805e+04\n",
       "Date:                Sat, 16 Dec 2017   Prob (F-statistic):               0.00\n",
       "Time:                        00:59:44   Log-Likelihood:                -452.36\n",
       "No. Observations:                 801   AIC:                             916.7\n",
       "Df Residuals:                     795   BIC:                             944.8\n",
       "Df Model:                           5                                         \n",
       "Covariance Type:            nonrobust                                         \n",
       "==============================================================================\n",
       "                 coef    std err          t      P>|t|      [0.025      0.975]\n",
       "------------------------------------------------------------------------------\n",
       "const          0.0075      0.045      0.167      0.868      -0.080       0.095\n",
       "L1             0.9659      0.034     28.147      0.000       0.899       1.033\n",
       "L2            -0.0344      0.049     -0.704      0.482      -0.130       0.061\n",
       "L3             0.0643      0.049      1.314      0.189      -0.032       0.160\n",
       "L4             0.0750      0.050      1.508      0.132      -0.023       0.173\n",
       "L5            -0.0703      0.034     -2.037      0.042      -0.138      -0.003\n",
       "==============================================================================\n",
       "Omnibus:                      133.748   Durbin-Watson:                   2.073\n",
       "Prob(Omnibus):                  0.000   Jarque-Bera (JB):              731.970\n",
       "Skew:                          -0.627   Prob(JB):                    1.13e-159\n",
       "Kurtosis:                       7.512   Cond. No.                         165.\n",
       "==============================================================================\n",
       "\n",
       "Warnings:\n",
       "[1] Standard Errors assume that the covariance matrix of the errors is correctly specified.\n",
       "\"\"\""
      ]
     },
     "execution_count": 44,
     "metadata": {},
     "output_type": "execute_result"
    }
   ],
   "source": [
    "X_train = sm.add_constant(X_train)\n",
    "sm_regr = sm.OLS(y_train,X_train).fit()\n",
    "sm_regr.summary()"
   ]
  },
  {
   "cell_type": "code",
   "execution_count": 45,
   "metadata": {},
   "outputs": [],
   "source": [
    "def tsplot(y, lags=None, figsize=(10, 8)):\n",
    "    fig = plt.figure(figsize=figsize)\n",
    "    layout = (2, 2)\n",
    "    ts_ax = plt.subplot2grid(layout, (0, 0), colspan=2)\n",
    "    acf_ax = plt.subplot2grid(layout, (1, 0))\n",
    "    pacf_ax = plt.subplot2grid(layout, (1, 1))\n",
    "\n",
    "    y.plot(ax=ts_ax)\n",
    "    smt.graphics.plot_acf(y, lags=lags, ax=acf_ax)\n",
    "    smt.graphics.plot_pacf(y, lags=lags, ax=pacf_ax)\n",
    "    [ax.set_xlim(1.5) for ax in [acf_ax, pacf_ax]]\n",
    "    sns.despine()\n",
    "    plt.tight_layout()\n",
    "    return ts_ax, acf_ax, pacf_ax"
   ]
  },
  {
   "cell_type": "code",
   "execution_count": 46,
   "metadata": {},
   "outputs": [
    {
     "data": {
      "text/plain": [
       "<matplotlib.axes._subplots.AxesSubplot at 0x7f1c17eab470>"
      ]
     },
     "execution_count": 46,
     "metadata": {},
     "output_type": "execute_result"
    },
    {
     "data": {
      "image/png": "[encoded data removed]",
      "text/plain": [
       "<matplotlib.figure.Figure at 0x7f1bfa5eaa20>"
      ]
     },
     "metadata": {},
     "output_type": "display_data"
    }
   ],
   "source": [
    "# Without any post-processing, the residuals dont exhibit any structure.\n",
    "sm_regr.resid.plot()"
   ]
  },
  {
   "cell_type": "code",
   "execution_count": 47,
   "metadata": {},
   "outputs": [
    {
     "data": {
      "text/plain": [
       "(<matplotlib.axes._subplots.AxesSubplot at 0x7f1bfa5ea6a0>,\n",
       " <matplotlib.axes._subplots.AxesSubplot at 0x7f1c006d9518>,\n",
       " <matplotlib.axes._subplots.AxesSubplot at 0x7f1c0071eb00>)"
      ]
     },
     "execution_count": 47,
     "metadata": {},
     "output_type": "execute_result"
    },
    {
     "data": {
      "image/png": "[encoded data removed]",
      "text/plain": [
       "<matplotlib.figure.Figure at 0x7f1bfa6996a0>"
      ]
     },
     "metadata": {},
     "output_type": "display_data"
    }
   ],
   "source": [
    "tsplot(sm_regr.resid,lags=36)"
   ]
  },
  {
   "cell_type": "markdown",
   "metadata": {},
   "source": [
    "### Check non-stationarity"
   ]
  },
  {
   "cell_type": "code",
   "execution_count": 48,
   "metadata": {},
   "outputs": [],
   "source": [
    "# Use the Augmented Dickey-Fuller test to check for non-stationarity.\n",
    "# Null: is non-stationary..need to handly accordingly\n",
    "# If p-value below 0.05 can reject.\n",
    "\n",
    "from collections import namedtuple\n",
    "ADF = namedtuple(\"ADF\", \"adf pvalue usedlag nobs critical icbest\")"
   ]
  },
  {
   "cell_type": "code",
   "execution_count": 49,
   "metadata": {},
   "outputs": [
    {
     "data": {
      "text/plain": [
       "OrderedDict([('adf', -0.83334780974921552),\n",
       "             ('pvalue', 0.80912964227895823),\n",
       "             ('usedlag', 7),\n",
       "             ('nobs', 994),\n",
       "             ('critical',\n",
       "              {'1%': -3.4369458427754398,\n",
       "               '10%': -2.5683205291305176,\n",
       "               '5%': -2.8644520725172873}),\n",
       "             ('icbest', 1122.7813324775839)])"
      ]
     },
     "execution_count": 49,
     "metadata": {},
     "output_type": "execute_result"
    }
   ],
   "source": [
    "ADF(*smt.adfuller(y))._asdict()"
   ]
  },
  {
   "cell_type": "code",
   "execution_count": 54,
   "metadata": {},
   "outputs": [
    {
     "data": {
      "text/plain": [
       "OrderedDict([('adf', -10.696912255978278),\n",
       "             ('pvalue', 3.6051019469108808e-19),\n",
       "             ('usedlag', 6),\n",
       "             ('nobs', 994),\n",
       "             ('critical',\n",
       "              {'1%': -3.4369458427754398,\n",
       "               '10%': -2.5683205291305176,\n",
       "               '5%': -2.8644520725172873}),\n",
       "             ('icbest', 1120.9842706174177)])"
      ]
     },
     "execution_count": 54,
     "metadata": {},
     "output_type": "execute_result"
    }
   ],
   "source": [
    "# Differencing results in a p-value below 0.05 thus we can reject the null hypothesis.\n",
    "ADF(*smt.adfuller(y.diff().dropna()))._asdict()"
   ]
  },
  {
   "cell_type": "code",
   "execution_count": 51,
   "metadata": {},
   "outputs": [],
   "source": [
    "data = (y.to_frame(name='y')\n",
    "         .assign(Δy=lambda df: df.y.diff())\n",
    "         .assign(LΔy=lambda df: df.Δy.shift()))\n",
    "mod_stationary = smf.ols('Δy ~ LΔy', data=data.dropna())\n",
    "res_stationary = mod_stationary.fit()"
   ]
  },
  {
   "cell_type": "code",
   "execution_count": 52,
   "metadata": {},
   "outputs": [
    {
     "data": {
      "image/png": "[encoded data removed]",
      "text/plain": [
       "<matplotlib.figure.Figure at 0x7f1bfa6109b0>"
      ]
     },
     "metadata": {},
     "output_type": "display_data"
    }
   ],
   "source": [
    "tsplot(res_stationary.resid, lags=24);"
   ]
  },
  {
   "cell_type": "code",
   "execution_count": null,
   "metadata": {},
   "outputs": [],
   "source": [
    "\n"
   ]
  },
  {
   "cell_type": "code",
   "execution_count": null,
   "metadata": {},
   "outputs": [],
   "source": []
  }
 ],
 "metadata": {
  "kernelspec": {
   "display_name": "Python 3",
   "language": "python",
   "name": "python3"
  },
  "language_info": {
   "codemirror_mode": {
    "name": "ipython",
    "version": 3
   },
   "file_extension": ".py",
   "mimetype": "text/x-python",
   "name": "python",
   "nbconvert_exporter": "python",
   "pygments_lexer": "ipython3",
   "version": "3.5.2"
  }
 },
 "nbformat": 4,
 "nbformat_minor": 2
}
