{
 "cells": [
  {
   "cell_type": "code",
   "execution_count": 2,
   "metadata": {},
   "outputs": [
    {
     "name": "stdout",
     "output_type": "stream",
     "text": [
      "This code requires TensorFlow v1.3+\n",
      "You have: 1.4.0\n"
     ]
    }
   ],
   "source": [
    "from __future__ import absolute_import\n",
    "from __future__ import division\n",
    "from __future__ import print_function\n",
    "\n",
    "import collections\n",
    "\n",
    "import numpy as np\n",
    "import pandas as pd\n",
    "\n",
    "import scipy as sp\n",
    "from scipy.stats import norm\n",
    "\n",
    "from statsmodels import stats\n",
    "import statsmodels\n",
    "\n",
    "import matplotlib.pyplot as plt\n",
    "import seaborn as sns\n",
    "\n",
    "from IPython.display import Image\n",
    "\n",
    "import tensorflow as tf\n",
    "print('This code requires TensorFlow v1.3+')\n",
    "print('You have:', tf.__version__)\n",
    "\n",
    "%matplotlib inline"
   ]
  },
  {
   "cell_type": "code",
   "execution_count": 3,
   "metadata": {},
   "outputs": [],
   "source": [
    "# https://github.com/tensorflow/workshops/blob/master/notebooks/07_structured_data.ipynb\n",
    "# https://archive.ics.uci.edu/ml/datasets/adult"
   ]
  },
  {
   "cell_type": "markdown",
   "metadata": {},
   "source": [
    "Objective: Try to improve upon \"07 structured data\" ~75% result for a linear classifier."
   ]
  },
  {
   "cell_type": "markdown",
   "metadata": {},
   "source": [
    "Steps taken:\n",
    "    1. Convert target to boolean, whether or not income above 50k.\n",
    "    2. Removed capital gains and capital losses from data set.\n",
    "    3. Normalized numerical data.\n",
    "    4. Checked for skewed data and applied log transformation to fnlwgt.\n",
    "    5. Checked for correlations between independent input features.\n",
    "    6. Created some new features.\n",
    "    \n",
    "Todo:\n",
    "    1. Check if the categorization of input features make sense. (Can we identify better groupings?) WIP\n",
    "    2. Find better way to address nan data.\n",
    "    \n",
    "\n",
    "Results:\n",
    "    1. Achieved 83.8% accuracy thus far on first pass. 12/09/2017"
   ]
  },
  {
   "cell_type": "code",
   "execution_count": 4,
   "metadata": {},
   "outputs": [],
   "source": [
    "census_train_url = 'https://archive.ics.uci.edu/ml/machine-learning-databases/adult/adult.data'\n",
    "census_test_url = 'https://archive.ics.uci.edu/ml/machine-learning-databases/adult/adult.test'\n",
    "census_train_path = tf.contrib.keras.utils.get_file('census.train', census_train_url)\n",
    "census_test_path = tf.contrib.keras.utils.get_file('census.test', census_test_url)"
   ]
  },
  {
   "cell_type": "code",
   "execution_count": 5,
   "metadata": {},
   "outputs": [],
   "source": [
    "column_names = [\n",
    "  'age', 'workclass', 'fnlwgt', 'education', 'education-num',\n",
    "  'marital-status', 'occupation', 'relationship', 'race', 'gender',\n",
    "  'capital-gain', 'capital-loss', 'hours-per-week', 'native-country',\n",
    "  'income'\n",
    "]"
   ]
  },
  {
   "cell_type": "code",
   "execution_count": 6,
   "metadata": {},
   "outputs": [],
   "source": [
    "# Notes\n",
    "# 1) We provide the header from above.\n",
    "# 2) The test file has a line we want to disgard at the top, so we include the parameter 'skiprows=1'\n",
    "census_train = pd.read_csv(census_train_path, index_col=False, names=column_names) \n",
    "census_test = pd.read_csv(census_test_path, skiprows=1, index_col=False, names=column_names)\n",
    "\n",
    "# Drop any rows that have missing elements\n",
    "# Of course there are other ways to handle missing data, but we'll\n",
    "# take the simplest approach here.\n",
    "census_train = census_train.dropna(how=\"any\", axis=0)\n",
    "census_test = census_test.dropna(how=\"any\", axis=0)"
   ]
  },
  {
   "cell_type": "code",
   "execution_count": 7,
   "metadata": {},
   "outputs": [],
   "source": [
    "# Separate the label we want to predict into its own object \n",
    "# At the same time, we'll convert it into true/false to fix the formatting error\n",
    "\n",
    "census_train_label = census_train.pop('income').apply(lambda x: \">50K\" in x)\n",
    "census_test_label = census_test.pop('income').apply(lambda x: \">50K\" in x)"
   ]
  },
  {
   "cell_type": "code",
   "execution_count": 8,
   "metadata": {},
   "outputs": [
    {
     "name": "stdout",
     "output_type": "stream",
     "text": [
      "Training examples: 32561\n",
      "Training labels: 32561\n",
      "\n",
      "Test examples: 16281\n",
      "Test labels: 16281\n"
     ]
    }
   ],
   "source": [
    "print (\"Training examples: %d\" % census_train.shape[0])\n",
    "print (\"Training labels: %d\" % census_train_label.shape[0])\n",
    "print()\n",
    "print (\"Test examples: %d\" % census_test.shape[0])\n",
    "print (\"Test labels: %d\" % census_test_label.shape[0])"
   ]
  },
  {
   "cell_type": "code",
   "execution_count": 9,
   "metadata": {},
   "outputs": [
    {
     "data": {
      "text/html": [
       "<div>\n",
       "<style>\n",
       "    .dataframe thead tr:only-child th {\n",
       "        text-align: right;\n",
       "    }\n",
       "\n",
       "    .dataframe thead th {\n",
       "        text-align: left;\n",
       "    }\n",
       "\n",
       "    .dataframe tbody tr th {\n",
       "        vertical-align: top;\n",
       "    }\n",
       "</style>\n",
       "<table border=\"1\" class=\"dataframe\">\n",
       "  <thead>\n",
       "    <tr style=\"text-align: right;\">\n",
       "      <th></th>\n",
       "      <th>age</th>\n",
       "      <th>workclass</th>\n",
       "      <th>fnlwgt</th>\n",
       "      <th>education</th>\n",
       "      <th>education-num</th>\n",
       "      <th>marital-status</th>\n",
       "      <th>occupation</th>\n",
       "      <th>relationship</th>\n",
       "      <th>race</th>\n",
       "      <th>gender</th>\n",
       "      <th>capital-gain</th>\n",
       "      <th>capital-loss</th>\n",
       "      <th>hours-per-week</th>\n",
       "      <th>native-country</th>\n",
       "    </tr>\n",
       "  </thead>\n",
       "  <tbody>\n",
       "    <tr>\n",
       "      <th>0</th>\n",
       "      <td>39</td>\n",
       "      <td>State-gov</td>\n",
       "      <td>77516</td>\n",
       "      <td>Bachelors</td>\n",
       "      <td>13</td>\n",
       "      <td>Never-married</td>\n",
       "      <td>Adm-clerical</td>\n",
       "      <td>Not-in-family</td>\n",
       "      <td>White</td>\n",
       "      <td>Male</td>\n",
       "      <td>2174</td>\n",
       "      <td>0</td>\n",
       "      <td>40</td>\n",
       "      <td>United-States</td>\n",
       "    </tr>\n",
       "    <tr>\n",
       "      <th>1</th>\n",
       "      <td>50</td>\n",
       "      <td>Self-emp-not-inc</td>\n",
       "      <td>83311</td>\n",
       "      <td>Bachelors</td>\n",
       "      <td>13</td>\n",
       "      <td>Married-civ-spouse</td>\n",
       "      <td>Exec-managerial</td>\n",
       "      <td>Husband</td>\n",
       "      <td>White</td>\n",
       "      <td>Male</td>\n",
       "      <td>0</td>\n",
       "      <td>0</td>\n",
       "      <td>13</td>\n",
       "      <td>United-States</td>\n",
       "    </tr>\n",
       "    <tr>\n",
       "      <th>2</th>\n",
       "      <td>38</td>\n",
       "      <td>Private</td>\n",
       "      <td>215646</td>\n",
       "      <td>HS-grad</td>\n",
       "      <td>9</td>\n",
       "      <td>Divorced</td>\n",
       "      <td>Handlers-cleaners</td>\n",
       "      <td>Not-in-family</td>\n",
       "      <td>White</td>\n",
       "      <td>Male</td>\n",
       "      <td>0</td>\n",
       "      <td>0</td>\n",
       "      <td>40</td>\n",
       "      <td>United-States</td>\n",
       "    </tr>\n",
       "    <tr>\n",
       "      <th>3</th>\n",
       "      <td>53</td>\n",
       "      <td>Private</td>\n",
       "      <td>234721</td>\n",
       "      <td>11th</td>\n",
       "      <td>7</td>\n",
       "      <td>Married-civ-spouse</td>\n",
       "      <td>Handlers-cleaners</td>\n",
       "      <td>Husband</td>\n",
       "      <td>Black</td>\n",
       "      <td>Male</td>\n",
       "      <td>0</td>\n",
       "      <td>0</td>\n",
       "      <td>40</td>\n",
       "      <td>United-States</td>\n",
       "    </tr>\n",
       "    <tr>\n",
       "      <th>4</th>\n",
       "      <td>28</td>\n",
       "      <td>Private</td>\n",
       "      <td>338409</td>\n",
       "      <td>Bachelors</td>\n",
       "      <td>13</td>\n",
       "      <td>Married-civ-spouse</td>\n",
       "      <td>Prof-specialty</td>\n",
       "      <td>Wife</td>\n",
       "      <td>Black</td>\n",
       "      <td>Female</td>\n",
       "      <td>0</td>\n",
       "      <td>0</td>\n",
       "      <td>40</td>\n",
       "      <td>Cuba</td>\n",
       "    </tr>\n",
       "  </tbody>\n",
       "</table>\n",
       "</div>"
      ],
      "text/plain": [
       "   age          workclass  fnlwgt   education  education-num  \\\n",
       "0   39          State-gov   77516   Bachelors             13   \n",
       "1   50   Self-emp-not-inc   83311   Bachelors             13   \n",
       "2   38            Private  215646     HS-grad              9   \n",
       "3   53            Private  234721        11th              7   \n",
       "4   28            Private  338409   Bachelors             13   \n",
       "\n",
       "        marital-status          occupation    relationship    race   gender  \\\n",
       "0        Never-married        Adm-clerical   Not-in-family   White     Male   \n",
       "1   Married-civ-spouse     Exec-managerial         Husband   White     Male   \n",
       "2             Divorced   Handlers-cleaners   Not-in-family   White     Male   \n",
       "3   Married-civ-spouse   Handlers-cleaners         Husband   Black     Male   \n",
       "4   Married-civ-spouse      Prof-specialty            Wife   Black   Female   \n",
       "\n",
       "   capital-gain  capital-loss  hours-per-week  native-country  \n",
       "0          2174             0              40   United-States  \n",
       "1             0             0              13   United-States  \n",
       "2             0             0              40   United-States  \n",
       "3             0             0              40   United-States  \n",
       "4             0             0              40            Cuba  "
      ]
     },
     "execution_count": 9,
     "metadata": {},
     "output_type": "execute_result"
    }
   ],
   "source": [
    "census_train.head()"
   ]
  },
  {
   "cell_type": "code",
   "execution_count": 10,
   "metadata": {},
   "outputs": [
    {
     "data": {
      "text/plain": [
       "0    False\n",
       "1    False\n",
       "2    False\n",
       "3    False\n",
       "4    False\n",
       "5    False\n",
       "6    False\n",
       "7     True\n",
       "8     True\n",
       "9     True\n",
       "Name: income, dtype: bool"
      ]
     },
     "execution_count": 10,
     "metadata": {},
     "output_type": "execute_result"
    }
   ],
   "source": [
    "census_train_label.head(10)"
   ]
  },
  {
   "cell_type": "markdown",
   "metadata": {},
   "source": [
    "### Input functions for training and data"
   ]
  },
  {
   "cell_type": "code",
   "execution_count": 11,
   "metadata": {},
   "outputs": [],
   "source": [
    "# Separate for train and test so that we can tailor each accordingly.\n",
    "def create_train_input_fn(): \n",
    "    return tf.estimator.inputs.pandas_input_fn(\n",
    "        x=census_train,\n",
    "        y=census_train_label, \n",
    "        batch_size=128,\n",
    "        num_epochs=None, # Repeat forever\n",
    "        shuffle=True)\n",
    "\n",
    "def create_test_input_fn():\n",
    "    return tf.estimator.inputs.pandas_input_fn(\n",
    "        x=census_test,\n",
    "        y=census_test_label, \n",
    "        num_epochs=1, # Just one epoch\n",
    "        shuffle=False) # Don't shuffle so we can compare to census_test_labels later"
   ]
  },
  {
   "cell_type": "markdown",
   "metadata": {},
   "source": [
    "## Pre-process and Train Linear Model"
   ]
  },
  {
   "cell_type": "code",
   "execution_count": 12,
   "metadata": {},
   "outputs": [
    {
     "name": "stdout",
     "output_type": "stream",
     "text": [
      "Index([u'age', u'workclass', u'fnlwgt', u'education', u'education-num',\n",
      "       u'marital-status', u'occupation', u'relationship', u'race', u'gender',\n",
      "       u'capital-gain', u'capital-loss', u'hours-per-week', u'native-country'],\n",
      "      dtype='object')\n",
      "# of original features: 14\n"
     ]
    }
   ],
   "source": [
    "print(census_train.columns)\n",
    "print(\"# of original features: {}\".format(census_train.columns.size))"
   ]
  },
  {
   "cell_type": "markdown",
   "metadata": {},
   "source": [
    "A considerable number of more instances of False."
   ]
  },
  {
   "cell_type": "code",
   "execution_count": 13,
   "metadata": {},
   "outputs": [
    {
     "name": "stdout",
     "output_type": "stream",
     "text": [
      "Just guessing False will result in a accuracy of 0.759190442554\n"
     ]
    },
    {
     "data": {
      "image/png": "[encoded data removed]",
      "text/plain": [
       "<matplotlib.figure.Figure at 0x7fbb9cee4890>"
      ]
     },
     "metadata": {},
     "output_type": "display_data"
    }
   ],
   "source": [
    "# Properties of target variable\n",
    "target = census_train_label\n",
    "target.head()\n",
    "sns.countplot(target)\n",
    "false = target[target==False].count()\n",
    "print(\"Just guessing False will result in a accuracy of {}\".format(false/target.count()))"
   ]
  },
  {
   "cell_type": "markdown",
   "metadata": {},
   "source": [
    "### Reconsider feature grouping"
   ]
  },
  {
   "cell_type": "markdown",
   "metadata": {},
   "source": []
  },
  {
   "cell_type": "markdown",
   "metadata": {},
   "source": [
    "#### Split between numeric and non-numeric"
   ]
  },
  {
   "cell_type": "code",
   "execution_count": 14,
   "metadata": {},
   "outputs": [
    {
     "name": "stdout",
     "output_type": "stream",
     "text": [
      "age:\t int64\n",
      "workclass:\t object\n",
      "fnlwgt:\t int64\n",
      "education:\t object\n",
      "education-num:\t int64\n",
      "marital-status:\t object\n",
      "occupation:\t object\n",
      "relationship:\t object\n",
      "race:\t object\n",
      "gender:\t object\n",
      "capital-gain:\t int64\n",
      "capital-loss:\t int64\n",
      "hours-per-week:\t int64\n",
      "native-country:\t object\n",
      "Low dim non-numeric features: [('workclass', 9), ('education', 16), ('marital-status', 7), ('occupation', 15), ('relationship', 6), ('race', 5), ('gender', 2)]\n",
      "High dim non-numeric features: [('native-country', 42)]\n"
     ]
    }
   ],
   "source": [
    "# Split between numeric and non-numeric\n",
    "numeric = []\n",
    "non_numeric = []\n",
    "for col in census_train.columns:\n",
    "    print(col+\":\\t\", census_train[col].dtypes)\n",
    "    if census_train[col].dtypes == 'int64':\n",
    "        numeric.append(col)\n",
    "    else:\n",
    "        non_numeric.append(col)\n",
    "        \n",
    "# Split between low and high dimensional\n",
    "# Lets say that less than 15 is low dimensional\n",
    "low_dim = []\n",
    "high_dim =[]\n",
    "\n",
    "for feature in non_numeric:\n",
    "    unique = len(census_train[feature].unique())\n",
    "    if unique < 20:\n",
    "        low_dim.append((feature,unique))\n",
    "    else:\n",
    "        high_dim.append((feature,unique))\n",
    "\n",
    "print(\"Low dim non-numeric features: {}\".format(low_dim))\n",
    "print(\"High dim non-numeric features: {}\".format(high_dim))"
   ]
  },
  {
   "cell_type": "code",
   "execution_count": 24,
   "metadata": {},
   "outputs": [
    {
     "data": {
      "text/plain": [
       "array([' Bachelors', ' HS-grad', ' 11th', ' Masters', ' 9th',\n",
       "       ' Some-college', ' Assoc-acdm', ' Assoc-voc', ' 7th-8th',\n",
       "       ' Doctorate', ' Prof-school', ' 5th-6th', ' 10th', ' 1st-4th',\n",
       "       ' Preschool', ' 12th'], dtype=object)"
      ]
     },
     "execution_count": 24,
     "metadata": {},
     "output_type": "execute_result"
    }
   ],
   "source": [
    "census_train[\"education\"].unique()"
   ]
  },
  {
   "cell_type": "code",
   "execution_count": 83,
   "metadata": {},
   "outputs": [],
   "source": [
    "preschool = [' Preschool']\n",
    "elementary = [' 1st-4th',' 5th-6th']\n",
    "junior = [' 7th-8th']\n",
    "highschool = [' 9th', ' 10th', ' 11th',  ' 12th', ' HS-grad',' Assoc-acdm', ' Assoc-voc']\n",
    "undergrad = [' Some-college', ' Bachelors']\n",
    "profschool = [' Prof-school']\n",
    "master =[' Masters']\n",
    "doctor = [' Doctorate']\n"
   ]
  },
  {
   "cell_type": "markdown",
   "metadata": {},
   "source": [
    "We can visually see that higher education results in a larger set of samples where income is greater than 50k, which is consistent with general a priori perceptions."
   ]
  },
  {
   "cell_type": "code",
   "execution_count": 84,
   "metadata": {},
   "outputs": [
    {
     "data": {
      "text/plain": [
       "<matplotlib.axes._subplots.AxesSubplot at 0x7fbb5c30ae10>"
      ]
     },
     "execution_count": 84,
     "metadata": {},
     "output_type": "execute_result"
    },
    {
     "data": {
      "image/png": "[encoded data removed]",
      "text/plain": [
       "<matplotlib.figure.Figure at 0x7fbb5c30a6d0>"
      ]
     },
     "metadata": {},
     "output_type": "display_data"
    }
   ],
   "source": [
    "sns.countplot(census_train_label.iloc[np.where(census_train['education']==\" Doctorate\")])"
   ]
  },
  {
   "cell_type": "code",
   "execution_count": 85,
   "metadata": {},
   "outputs": [
    {
     "data": {
      "text/plain": [
       "<matplotlib.axes._subplots.AxesSubplot at 0x7fbb5c5f3050>"
      ]
     },
     "execution_count": 85,
     "metadata": {},
     "output_type": "execute_result"
    },
    {
     "data": {
      "image/png": "[encoded data removed]",
      "text/plain": [
       "<matplotlib.figure.Figure at 0x7fbb5c3a8cd0>"
      ]
     },
     "metadata": {},
     "output_type": "display_data"
    }
   ],
   "source": [
    "sns.countplot(census_train_label.iloc[np.where(census_train['education']==\" Masters\")])"
   ]
  },
  {
   "cell_type": "markdown",
   "metadata": {},
   "source": [
    "### Find skewed data"
   ]
  },
  {
   "cell_type": "markdown",
   "metadata": {},
   "source": [
    "#### Create plots to visualize the distribution of the numerical data"
   ]
  },
  {
   "cell_type": "code",
   "execution_count": 14,
   "metadata": {},
   "outputs": [
    {
     "data": {
      "text/plain": [
       "['age',\n",
       " 'fnlwgt',\n",
       " 'education-num',\n",
       " 'capital-gain',\n",
       " 'capital-loss',\n",
       " 'hours-per-week']"
      ]
     },
     "execution_count": 14,
     "metadata": {},
     "output_type": "execute_result"
    }
   ],
   "source": [
    "numeric"
   ]
  },
  {
   "cell_type": "code",
   "execution_count": null,
   "metadata": {},
   "outputs": [],
   "source": []
  },
  {
   "cell_type": "code",
   "execution_count": 15,
   "metadata": {},
   "outputs": [
    {
     "data": {
      "text/plain": [
       "<seaborn.axisgrid.FacetGrid at 0x7efce5233590>"
      ]
     },
     "execution_count": 15,
     "metadata": {},
     "output_type": "execute_result"
    },
    {
     "data": {
      "image/png": "[encoded data removed]",
      "text/plain": [
       "<matplotlib.figure.Figure at 0x7efce5233c90>"
      ]
     },
     "metadata": {},
     "output_type": "display_data"
    }
   ],
   "source": [
    "nd = pd.melt(census_train, value_vars = numeric)\n",
    "n1 = sns.FacetGrid (nd, col='variable', col_wrap=4, sharex=False, sharey = False)\n",
    "n1 = n1.map(sns.distplot, 'value')\n",
    "n1"
   ]
  },
  {
   "cell_type": "markdown",
   "metadata": {},
   "source": [
    "Jarque_bera test for normality really doesnt provide us much...basically indicates none of the features are normally distributed.\n"
   ]
  },
  {
   "cell_type": "code",
   "execution_count": 16,
   "metadata": {},
   "outputs": [
    {
     "name": "stdout",
     "output_type": "stream",
     "text": [
      "age:\t (1731.584024439665, 0.0)\n",
      "fnlwgt:\t (63810.981074231931, 0.0)\n",
      "education-num:\t (1053.9792970305425, 0.0)\n",
      "capital-gain:\t (33275952.272481531, 0.0)\n",
      "capital-loss:\t (677694.43107165361, 0.0)\n",
      "hours-per-week:\t (11817.798208394232, 0.0)\n"
     ]
    }
   ],
   "source": [
    "for feature in numeric:\n",
    "    print(feature+\":\\t\", sp.stats.jarque_bera(census_train[feature]))"
   ]
  },
  {
   "cell_type": "code",
   "execution_count": 17,
   "metadata": {},
   "outputs": [
    {
     "name": "stdout",
     "output_type": "stream",
     "text": [
      "age:\t 0.55871762924 skewed\n",
      "fnlwgt:\t 1.44691343514 skewed\n",
      "education-num:\t -0.311661509635 \n",
      "capital-gain:\t 11.9532969982 skewed\n",
      "capital-loss:\t 4.59441745644 skewed\n",
      "hours-per-week:\t 0.227632049775 \n"
     ]
    }
   ],
   "source": [
    "# Use rule of thumb if absolute value of skew is larger than 0.5\n",
    "# then considered skewed.\n",
    "\n",
    "for feature in numeric:\n",
    "    skew = sp.stats.skew(census_train[feature])\n",
    "    abs_skew = np.abs(skew)\n",
    "    skewed = lambda x: \"skewed\" if x > 0.5 else \"\"\n",
    "    print(feature+\":\\t\", skew, skewed(abs_skew) )"
   ]
  },
  {
   "cell_type": "markdown",
   "metadata": {},
   "source": [
    "Age, fnlwgt, capital-gain, capital-loss can be considered as skewed..."
   ]
  },
  {
   "cell_type": "code",
   "execution_count": 18,
   "metadata": {},
   "outputs": [
    {
     "name": "stdout",
     "output_type": "stream",
     "text": [
      "% of sample with capgains 8.32898252511\n",
      "% of sample with caploss 4.66509013851\n"
     ]
    }
   ],
   "source": [
    "# capital-gain and capital-loss\n",
    "capgain = census_train['capital-gain']\n",
    "caploss = census_train['capital-loss']\n",
    "print(\"% of sample with capgains {}\".format(capgain[capgain>0].count()/capgain.count()*100.))\n",
    "print(\"% of sample with caploss {}\".format(caploss[caploss>0].count()/caploss.count()*100.))"
   ]
  },
  {
   "cell_type": "code",
   "execution_count": 19,
   "metadata": {},
   "outputs": [
    {
     "data": {
      "text/plain": [
       "<matplotlib.axes._subplots.AxesSubplot at 0x7efce525ed10>"
      ]
     },
     "execution_count": 19,
     "metadata": {},
     "output_type": "execute_result"
    },
    {
     "data": {
      "image/png": "[encoded data removed]",
      "text/plain": [
       "<matplotlib.figure.Figure at 0x7efce0ff2b50>"
      ]
     },
     "metadata": {},
     "output_type": "display_data"
    }
   ],
   "source": [
    "sns.stripplot(y=census_train['capital-gain'], x= census_train_label)"
   ]
  },
  {
   "cell_type": "code",
   "execution_count": 20,
   "metadata": {},
   "outputs": [
    {
     "data": {
      "text/plain": [
       "<matplotlib.axes._subplots.AxesSubplot at 0x7efce5218ad0>"
      ]
     },
     "execution_count": 20,
     "metadata": {},
     "output_type": "execute_result"
    },
    {
     "data": {
      "image/png": "[encoded data removed]",
      "text/plain": [
       "<matplotlib.figure.Figure at 0x7efce120cd10>"
      ]
     },
     "metadata": {},
     "output_type": "display_data"
    }
   ],
   "source": [
    "sns.stripplot(y=census_train['capital-loss'], x= census_train_label)"
   ]
  },
  {
   "cell_type": "code",
   "execution_count": 21,
   "metadata": {},
   "outputs": [],
   "source": [
    "# Both cap gains and cap loss are sparse data sets, and visually offer no real insight with respect\n",
    "# to having an income greater than 50k. Lets see what happens if we remove these two features."
   ]
  },
  {
   "cell_type": "code",
   "execution_count": 22,
   "metadata": {},
   "outputs": [
    {
     "data": {
      "text/plain": [
       "<matplotlib.axes._subplots.AxesSubplot at 0x7efce156a690>"
      ]
     },
     "execution_count": 22,
     "metadata": {},
     "output_type": "execute_result"
    },
    {
     "data": {
      "image/png": "[encoded data removed]",
      "text/plain": [
       "<matplotlib.figure.Figure at 0x7efce1255490>"
      ]
     },
     "metadata": {},
     "output_type": "display_data"
    }
   ],
   "source": [
    "# Add the log transformation of fnlwgt\n",
    "fnlwgt = census_train['fnlwgt']\n",
    "sns.distplot(np.log(fnlwgt))"
   ]
  },
  {
   "cell_type": "code",
   "execution_count": 23,
   "metadata": {},
   "outputs": [],
   "source": [
    "census_train['fnlwgt_log'] = np.log(census_train['fnlwgt'])\n",
    "census_test['fnlwgt_log'] = np.log(census_test['fnlwgt'])"
   ]
  },
  {
   "cell_type": "markdown",
   "metadata": {},
   "source": [
    "### Check for high correlation between features"
   ]
  },
  {
   "cell_type": "code",
   "execution_count": 24,
   "metadata": {},
   "outputs": [
    {
     "data": {
      "text/plain": [
       "<matplotlib.axes._subplots.AxesSubplot at 0x7efce15a0f10>"
      ]
     },
     "execution_count": 24,
     "metadata": {},
     "output_type": "execute_result"
    },
    {
     "data": {
      "image/png": "[encoded data removed]",
      "text/plain": [
       "<matplotlib.figure.Figure at 0x7efce5283890>"
      ]
     },
     "metadata": {},
     "output_type": "display_data"
    }
   ],
   "source": [
    "corr = census_train[numeric].corr()\n",
    "sns.heatmap(corr)"
   ]
  },
  {
   "cell_type": "markdown",
   "metadata": {},
   "source": [
    "### Normalize Numerical Data"
   ]
  },
  {
   "cell_type": "code",
   "execution_count": 25,
   "metadata": {},
   "outputs": [],
   "source": [
    "def normalize(col):\n",
    "    return (col - np.mean(col)) / np.std(col)\n",
    "\n",
    "# normalize numerical features\n",
    "census_train[\"age\"] = normalize(census_train[\"age\"].values)\n",
    "census_train[\"education-num\"] = normalize(census_train[\"education-num\"].values)\n",
    "census_train[\"hours-per-week\"] = normalize(census_train[\"hours-per-week\"].values)\n",
    "census_train[\"fnlwgt_log\"] = normalize(census_train[\"fnlwgt_log\"].values)\n",
    "\n",
    "census_test[\"age\"] = normalize(census_test[\"age\"].values)\n",
    "census_test[\"education-num\"] = normalize(census_test[\"education-num\"].values)\n",
    "census_test[\"hours-per-week\"] = normalize(census_test[\"hours-per-week\"].values)\n",
    "census_test[\"fnlwgt_log\"] = normalize(census_test[\"fnlwgt_log\"].values)\n",
    "\n",
    "# delete unused columns\n",
    "del census_train[\"fnlwgt\"]\n",
    "del census_train[\"capital-gain\"]\n",
    "del census_train[\"capital-loss\"]\n",
    "del census_test[\"fnlwgt\"]\n",
    "del census_test[\"capital-gain\"]\n",
    "del census_test[\"capital-loss\"]\n"
   ]
  },
  {
   "cell_type": "code",
   "execution_count": 26,
   "metadata": {},
   "outputs": [],
   "source": [
    "workclass = tf.feature_column.categorical_column_with_vocabulary_list(\n",
    "    low_dim[0][0], census_train[low_dim[0][0]].unique())\n",
    "\n",
    "education = tf.feature_column.categorical_column_with_vocabulary_list(\n",
    "    low_dim[1][0], census_train[low_dim[1][0]].unique())\n",
    "\n",
    "marital_status = tf.feature_column.categorical_column_with_vocabulary_list(\n",
    "    low_dim[2][0], census_train[low_dim[2][0]].unique())\n",
    "\n",
    "occupation = tf.feature_column.categorical_column_with_vocabulary_list(\n",
    "    low_dim[3][0], census_train[low_dim[3][0]].unique())\n",
    "\n",
    "relationship = tf.feature_column.categorical_column_with_vocabulary_list(\n",
    "    low_dim[4][0], census_train[low_dim[4][0]].unique())\n",
    "     \n",
    "race = tf.feature_column.categorical_column_with_vocabulary_list(\n",
    "    low_dim[5][0], census_train[low_dim[5][0]].unique())\n",
    "\n",
    "gender = tf.feature_column.categorical_column_with_vocabulary_list(\n",
    "    low_dim[6][0], census_train[low_dim[6][0]].unique())\n",
    "     "
   ]
  },
  {
   "cell_type": "markdown",
   "metadata": {},
   "source": [
    "### Create New Features"
   ]
  },
  {
   "cell_type": "code",
   "execution_count": 27,
   "metadata": {},
   "outputs": [],
   "source": [
    "age_buckets = tf.feature_column.bucketized_column(\n",
    "    tf.feature_column.numeric_column('age'), \n",
    "    boundaries=list(range(10)) # specify the ranges\n",
    ")"
   ]
  },
  {
   "cell_type": "code",
   "execution_count": 28,
   "metadata": {},
   "outputs": [],
   "source": [
    "feature_columns = [\n",
    "    # Use indicator columns for low dimensional vocabularies\n",
    "    tf.feature_column.indicator_column(workclass),\n",
    "    tf.feature_column.indicator_column(education),\n",
    "    tf.feature_column.indicator_column(marital_status),\n",
    "    tf.feature_column.indicator_column(occupation),\n",
    "    tf.feature_column.indicator_column(relationship),\n",
    "    tf.feature_column.indicator_column(race),\n",
    "    tf.feature_column.indicator_column(gender),\n",
    "    tf.feature_column.indicator_column(age_buckets),\n",
    "    \n",
    "    tf.feature_column.embedding_column(  # now using embedding!\n",
    "        # params are hash buckets, embedding size\n",
    "        tf.feature_column.categorical_column_with_hash_bucket('native-country', 1000), 10),\n",
    "    \n",
    "    tf.feature_column.embedding_column(\n",
    "        tf.feature_column.crossed_column(\n",
    "            [age_buckets, education],\n",
    "            hash_bucket_size=int(1e4)\n",
    "        ),\n",
    "        dimension=10\n",
    "    ),\n",
    "        \n",
    "    # numeric features\n",
    "    tf.feature_column.numeric_column('age'),\n",
    "    tf.feature_column.numeric_column('fnlwgt_log'),\n",
    "    tf.feature_column.numeric_column('education-num'),\n",
    "    tf.feature_column.numeric_column('hours-per-week'),   \n",
    "]"
   ]
  },
  {
   "cell_type": "markdown",
   "metadata": {},
   "source": [
    "### Define estimator as a linear classifier"
   ]
  },
  {
   "cell_type": "code",
   "execution_count": 29,
   "metadata": {},
   "outputs": [
    {
     "name": "stdout",
     "output_type": "stream",
     "text": [
      "INFO:tensorflow:Using default config.\n",
      "INFO:tensorflow:Using config: {'_save_checkpoints_secs': 600, '_session_config': None, '_keep_checkpoint_max': 5, '_task_type': 'worker', '_is_chief': True, '_cluster_spec': <tensorflow.python.training.server_lib.ClusterSpec object at 0x7efce0aacd10>, '_save_checkpoints_steps': None, '_keep_checkpoint_every_n_hours': 10000, '_service': None, '_num_ps_replicas': 0, '_tf_random_seed': None, '_master': '', '_num_worker_replicas': 1, '_task_id': 0, '_log_step_count_steps': 100, '_model_dir': 'graphs/linear', '_save_summary_steps': 100}\n"
     ]
    }
   ],
   "source": [
    "estimator = tf.estimator.LinearClassifier(optimizer=tf.train.FtrlOptimizer(\n",
    "                                    learning_rate=0.1,\n",
    "                                    l1_regularization_strength=1.0,\n",
    "                                    l2_regularization_strength=1.0),\n",
    "                                    feature_columns=feature_columns, \n",
    "                                    n_classes=2,\n",
    "                                    model_dir='graphs/linear')"
   ]
  },
  {
   "cell_type": "markdown",
   "metadata": {},
   "source": [
    "### Train"
   ]
  },
  {
   "cell_type": "code",
   "execution_count": 30,
   "metadata": {},
   "outputs": [
    {
     "name": "stdout",
     "output_type": "stream",
     "text": [
      "INFO:tensorflow:Create CheckpointSaverHook.\n",
      "INFO:tensorflow:Restoring parameters from graphs/linear/model.ckpt-10000\n",
      "INFO:tensorflow:Saving checkpoints for 10001 into graphs/linear/model.ckpt.\n",
      "INFO:tensorflow:loss = 50.096, step = 10001\n",
      "INFO:tensorflow:global_step/sec: 113.497\n",
      "INFO:tensorflow:loss = 42.9063, step = 10101 (0.885 sec)\n",
      "INFO:tensorflow:global_step/sec: 153.315\n",
      "INFO:tensorflow:loss = 42.8782, step = 10201 (0.650 sec)\n",
      "INFO:tensorflow:global_step/sec: 148.988\n",
      "INFO:tensorflow:loss = 50.5404, step = 10301 (0.672 sec)\n",
      "INFO:tensorflow:global_step/sec: 86.8219\n",
      "INFO:tensorflow:loss = 40.8111, step = 10401 (1.154 sec)\n",
      "INFO:tensorflow:global_step/sec: 116.134\n",
      "INFO:tensorflow:loss = 48.1555, step = 10501 (0.863 sec)\n",
      "INFO:tensorflow:global_step/sec: 122.352\n",
      "INFO:tensorflow:loss = 41.2387, step = 10601 (0.815 sec)\n",
      "INFO:tensorflow:global_step/sec: 131.867\n",
      "INFO:tensorflow:loss = 46.6556, step = 10701 (0.759 sec)\n",
      "INFO:tensorflow:global_step/sec: 116.931\n",
      "INFO:tensorflow:loss = 37.4594, step = 10801 (0.853 sec)\n",
      "INFO:tensorflow:global_step/sec: 117.073\n",
      "INFO:tensorflow:loss = 48.9541, step = 10901 (0.853 sec)\n",
      "INFO:tensorflow:global_step/sec: 115.579\n",
      "INFO:tensorflow:loss = 41.9877, step = 11001 (0.869 sec)\n",
      "INFO:tensorflow:global_step/sec: 125.959\n",
      "INFO:tensorflow:loss = 42.1853, step = 11101 (0.791 sec)\n",
      "INFO:tensorflow:global_step/sec: 181.063\n",
      "INFO:tensorflow:loss = 41.8652, step = 11201 (0.552 sec)\n",
      "INFO:tensorflow:global_step/sec: 210.209\n",
      "INFO:tensorflow:loss = 39.8872, step = 11301 (0.478 sec)\n",
      "INFO:tensorflow:global_step/sec: 174.252\n",
      "INFO:tensorflow:loss = 43.0313, step = 11401 (0.577 sec)\n",
      "INFO:tensorflow:global_step/sec: 127.741\n",
      "INFO:tensorflow:loss = 35.5425, step = 11501 (0.781 sec)\n",
      "INFO:tensorflow:global_step/sec: 142.493\n",
      "INFO:tensorflow:loss = 46.1544, step = 11601 (0.699 sec)\n",
      "INFO:tensorflow:global_step/sec: 126.509\n",
      "INFO:tensorflow:loss = 42.9017, step = 11701 (0.790 sec)\n",
      "INFO:tensorflow:global_step/sec: 136.391\n",
      "INFO:tensorflow:loss = 41.1853, step = 11801 (0.734 sec)\n",
      "INFO:tensorflow:global_step/sec: 108.35\n",
      "INFO:tensorflow:loss = 47.6256, step = 11901 (0.922 sec)\n",
      "INFO:tensorflow:global_step/sec: 116.705\n",
      "INFO:tensorflow:loss = 36.15, step = 12001 (0.861 sec)\n",
      "INFO:tensorflow:global_step/sec: 138.659\n",
      "INFO:tensorflow:loss = 46.6941, step = 12101 (0.718 sec)\n",
      "INFO:tensorflow:global_step/sec: 105.763\n",
      "INFO:tensorflow:loss = 52.324, step = 12201 (0.949 sec)\n",
      "INFO:tensorflow:global_step/sec: 170.202\n",
      "INFO:tensorflow:loss = 41.5465, step = 12301 (0.584 sec)\n",
      "INFO:tensorflow:global_step/sec: 166.984\n",
      "INFO:tensorflow:loss = 39.7464, step = 12401 (0.600 sec)\n",
      "INFO:tensorflow:global_step/sec: 164.109\n",
      "INFO:tensorflow:loss = 37.4125, step = 12501 (0.607 sec)\n",
      "INFO:tensorflow:global_step/sec: 155.223\n",
      "INFO:tensorflow:loss = 36.8818, step = 12601 (0.647 sec)\n",
      "INFO:tensorflow:global_step/sec: 216.289\n",
      "INFO:tensorflow:loss = 45.6809, step = 12701 (0.463 sec)\n",
      "INFO:tensorflow:global_step/sec: 202.984\n",
      "INFO:tensorflow:loss = 50.8388, step = 12801 (0.493 sec)\n",
      "INFO:tensorflow:global_step/sec: 131.998\n",
      "INFO:tensorflow:loss = 48.0018, step = 12901 (0.758 sec)\n",
      "INFO:tensorflow:global_step/sec: 197.24\n",
      "INFO:tensorflow:loss = 39.5121, step = 13001 (0.506 sec)\n",
      "INFO:tensorflow:global_step/sec: 173.581\n",
      "INFO:tensorflow:loss = 35.8845, step = 13101 (0.578 sec)\n",
      "INFO:tensorflow:global_step/sec: 141.984\n",
      "INFO:tensorflow:loss = 43.4101, step = 13201 (0.703 sec)\n",
      "INFO:tensorflow:global_step/sec: 98.909\n",
      "INFO:tensorflow:loss = 43.5282, step = 13301 (1.013 sec)\n",
      "INFO:tensorflow:global_step/sec: 136.227\n",
      "INFO:tensorflow:loss = 50.2325, step = 13401 (0.730 sec)\n",
      "INFO:tensorflow:global_step/sec: 112.731\n",
      "INFO:tensorflow:loss = 41.2597, step = 13501 (0.886 sec)\n",
      "INFO:tensorflow:global_step/sec: 160.523\n",
      "INFO:tensorflow:loss = 52.2784, step = 13601 (0.626 sec)\n",
      "INFO:tensorflow:global_step/sec: 149.27\n",
      "INFO:tensorflow:loss = 30.7494, step = 13701 (0.669 sec)\n",
      "INFO:tensorflow:global_step/sec: 143.964\n",
      "INFO:tensorflow:loss = 36.8488, step = 13801 (0.695 sec)\n",
      "INFO:tensorflow:global_step/sec: 164.605\n",
      "INFO:tensorflow:loss = 37.302, step = 13901 (0.605 sec)\n",
      "INFO:tensorflow:global_step/sec: 140.739\n",
      "INFO:tensorflow:loss = 46.7377, step = 14001 (0.711 sec)\n",
      "INFO:tensorflow:global_step/sec: 177.038\n",
      "INFO:tensorflow:loss = 42.2248, step = 14101 (0.566 sec)\n",
      "INFO:tensorflow:global_step/sec: 185.198\n",
      "INFO:tensorflow:loss = 45.7792, step = 14201 (0.541 sec)\n",
      "INFO:tensorflow:global_step/sec: 175.27\n",
      "INFO:tensorflow:loss = 42.6948, step = 14301 (0.572 sec)\n",
      "INFO:tensorflow:global_step/sec: 171.68\n",
      "INFO:tensorflow:loss = 43.8988, step = 14401 (0.580 sec)\n",
      "INFO:tensorflow:global_step/sec: 199.789\n",
      "INFO:tensorflow:loss = 44.4901, step = 14501 (0.507 sec)\n",
      "INFO:tensorflow:global_step/sec: 110.098\n",
      "INFO:tensorflow:loss = 46.2719, step = 14601 (0.913 sec)\n",
      "INFO:tensorflow:global_step/sec: 119.082\n",
      "INFO:tensorflow:loss = 48.3334, step = 14701 (0.837 sec)\n",
      "INFO:tensorflow:global_step/sec: 172.349\n",
      "INFO:tensorflow:loss = 48.5819, step = 14801 (0.575 sec)\n",
      "INFO:tensorflow:global_step/sec: 132.354\n",
      "INFO:tensorflow:loss = 37.8952, step = 14901 (0.758 sec)\n",
      "INFO:tensorflow:Saving checkpoints for 15000 into graphs/linear/model.ckpt.\n",
      "INFO:tensorflow:Loss for final step: 40.5329.\n"
     ]
    },
    {
     "data": {
      "text/plain": [
       "<tensorflow.python.estimator.canned.linear.LinearClassifier at 0x7efce0ea2550>"
      ]
     },
     "execution_count": 30,
     "metadata": {},
     "output_type": "execute_result"
    }
   ],
   "source": [
    "train_input_fn = create_train_input_fn()\n",
    "estimator.train(train_input_fn, steps=5000)"
   ]
  },
  {
   "cell_type": "markdown",
   "metadata": {},
   "source": [
    "### Evaluate"
   ]
  },
  {
   "cell_type": "code",
   "execution_count": 31,
   "metadata": {},
   "outputs": [
    {
     "name": "stdout",
     "output_type": "stream",
     "text": [
      "WARNING:tensorflow:Casting <dtype: 'float32'> labels to bool.\n",
      "WARNING:tensorflow:Casting <dtype: 'float32'> labels to bool.\n",
      "INFO:tensorflow:Starting evaluation at 2017-12-09-13:12:59\n",
      "INFO:tensorflow:Restoring parameters from graphs/linear/model.ckpt-15000\n",
      "INFO:tensorflow:Finished evaluation at 2017-12-09-13:13:01\n",
      "INFO:tensorflow:Saving dict for global step 15000: accuracy = 0.837664, accuracy_baseline = 0.763774, auc = 0.887553, auc_precision_recall = 0.698605, average_loss = 0.346929, global_step = 15000, label/mean = 0.236226, loss = 44.1278, prediction/mean = 0.241785\n"
     ]
    },
    {
     "data": {
      "text/plain": [
       "{'accuracy': 0.83766353,\n",
       " 'accuracy_baseline': 0.76377374,\n",
       " 'auc': 0.88755333,\n",
       " 'auc_precision_recall': 0.69860518,\n",
       " 'average_loss': 0.34692934,\n",
       " 'global_step': 15000,\n",
       " 'label/mean': 0.23622628,\n",
       " 'loss': 44.127785,\n",
       " 'prediction/mean': 0.24178456}"
      ]
     },
     "execution_count": 31,
     "metadata": {},
     "output_type": "execute_result"
    }
   ],
   "source": [
    "test_input_fn = create_test_input_fn()\n",
    "estimator.evaluate(test_input_fn)"
   ]
  },
  {
   "cell_type": "code",
   "execution_count": null,
   "metadata": {},
   "outputs": [],
   "source": []
  }
 ],
 "metadata": {
  "kernelspec": {
   "display_name": "Python 2",
   "language": "python",
   "name": "python2"
  },
  "language_info": {
   "codemirror_mode": {
    "name": "ipython",
    "version": 2
   },
   "file_extension": ".py",
   "mimetype": "text/x-python",
   "name": "python",
   "nbconvert_exporter": "python",
   "pygments_lexer": "ipython2",
   "version": "2.7.12"
  }
 },
 "nbformat": 4,
 "nbformat_minor": 2
}
