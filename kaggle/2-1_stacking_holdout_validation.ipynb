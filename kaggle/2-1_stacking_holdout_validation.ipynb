{
 "cells": [
  {
   "cell_type": "code",
   "execution_count": 14,
   "metadata": {},
   "outputs": [],
   "source": [
    "from sklearn.ensemble import RandomForestRegressor\n",
    "from sklearn.linear_model import LinearRegression\n",
    "import numpy as np\n",
    "import pandas as pd\n",
    "from sklearn.model_selection import train_test_split\n",
    "from sklearn.datasets import load_boston"
   ]
  },
  {
   "cell_type": "markdown",
   "metadata": {},
   "source": [
    "A simple walk through of a stacking example using a holdout validation scheme. \n",
    "\n",
    "Simple holdout scheme: \n",
    "1. Split data into (train_data) and (test_data).\n",
    "2. Split (train_data) into three parts: (partA) and (partB) and (partC).\n",
    "3. Fit N diverse models on (partA), predict for (partB), (partC), (test_data) getting meta-features (partB_meta), (partC_meta) and (test_meta) respectively.\n",
    "4. Fit a metamodel to a (partB_meta) while validating its hyperparameters on (partC_meta).\n",
    "5. When the metamodel is validated, fit it to [(partB_meta), (partC_meta)] and predict for (test_meta).\n",
    "\n",
    "(Holdout scheme suggested in Advanced Machine Learning course (Coursera))"
   ]
  },
  {
   "cell_type": "code",
   "execution_count": 70,
   "metadata": {},
   "outputs": [],
   "source": [
    "np.random.seed(3) "
   ]
  },
  {
   "cell_type": "code",
   "execution_count": 71,
   "metadata": {},
   "outputs": [],
   "source": [
    "X, y = load_boston(return_X_y=True)\n",
    "\n",
    "# Steps 1 and 2\n",
    "X_train, X_test, y_train, y_test = train_test_split(X,y, test_size=0.1)\n",
    "X_partA, X_temp, y_partA, y_temp = train_test_split(X_train,y_train, test_size=0.5)\n",
    "X_partB, X_partC, y_partB, y_partC = train_test_split(X_temp,y_temp, test_size=0.5)\n"
   ]
  },
  {
   "cell_type": "code",
   "execution_count": 72,
   "metadata": {},
   "outputs": [
    {
     "name": "stdout",
     "output_type": "stream",
     "text": [
      "(455, 13)\n",
      "(455,)\n"
     ]
    }
   ],
   "source": [
    "print(X_train.shape)\n",
    "print(y_train.shape)"
   ]
  },
  {
   "cell_type": "code",
   "execution_count": 73,
   "metadata": {},
   "outputs": [],
   "source": [
    "# Step 3"
   ]
  },
  {
   "cell_type": "code",
   "execution_count": 74,
   "metadata": {},
   "outputs": [],
   "source": [
    "# Specifiy base learners.\n",
    "m1 = RandomForestRegressor()\n",
    "m2 = LinearRegression()"
   ]
  },
  {
   "cell_type": "code",
   "execution_count": 75,
   "metadata": {},
   "outputs": [
    {
     "data": {
      "text/plain": [
       "LinearRegression(copy_X=True, fit_intercept=True, n_jobs=1, normalize=False)"
      ]
     },
     "execution_count": 75,
     "metadata": {},
     "output_type": "execute_result"
    }
   ],
   "source": [
    "m1.fit(X_partA, y_partA)\n",
    "m2.fit(X_partA, y_partA)"
   ]
  },
  {
   "cell_type": "code",
   "execution_count": 76,
   "metadata": {},
   "outputs": [],
   "source": [
    "meta_B1 = m1.predict(X_partB)\n",
    "meta_B2 = m2.predict(X_partB)\n",
    "meta_B = np.c_[meta_B1, meta_B2]\n",
    "meta_C1 = m1.predict(X_partC)\n",
    "meta_C2 = m2.predict(X_partC)\n",
    "meta_C = np.c_[meta_C1, meta_C2]"
   ]
  },
  {
   "cell_type": "code",
   "execution_count": 77,
   "metadata": {},
   "outputs": [],
   "source": [
    "meta_test_1 = m1.predict(X_test)\n",
    "meta_test_2 = m2.predict(X_test)\n",
    "meta_test = np.c_[meta_test_1, meta_test_2]"
   ]
  },
  {
   "cell_type": "code",
   "execution_count": 78,
   "metadata": {},
   "outputs": [],
   "source": [
    "# meta model\n",
    "meta_m = LinearRegression()\n",
    "\n",
    "# Step 4\n",
    "meta_m.fit(meta_B, y_partB)\n",
    "y_meta_C_pred = meta_m.predict(meta_C)"
   ]
  },
  {
   "cell_type": "code",
   "execution_count": 79,
   "metadata": {},
   "outputs": [
    {
     "data": {
      "text/plain": [
       "0.81174986319822573"
      ]
     },
     "execution_count": 79,
     "metadata": {},
     "output_type": "execute_result"
    }
   ],
   "source": [
    "from sklearn.metrics import r2_score\n",
    "r2_score(y_meta_C_pred, y_partC)"
   ]
  },
  {
   "cell_type": "code",
   "execution_count": 83,
   "metadata": {},
   "outputs": [],
   "source": [
    "meta_all = np.row_stack((meta_B, meta_C))\n",
    "y_all = np.concatenate([y_partB, y_partC])\n",
    "\n",
    "# Step 5\n",
    "meta_m.fit(meta_all, y_all)\n",
    "y_test_pred = meta_m.predict(meta_test)\n",
    "stacked = r2_score(y_test_pred, y_test)"
   ]
  },
  {
   "cell_type": "code",
   "execution_count": 84,
   "metadata": {},
   "outputs": [
    {
     "name": "stdout",
     "output_type": "stream",
     "text": [
      "Random Forest base: 0.8813375465704971\n",
      "Linear Regression base: 0.7491895824299648\n",
      "Stacked: 0.8833472311976777\n"
     ]
    }
   ],
   "source": [
    "meta_test_1 = m1.predict(X_test)\n",
    "meta_test_2 = m2.predict(X_test)\n",
    "rf_base = r2_score(meta_test_1, y_test)\n",
    "lr_base = r2_score(meta_test_2, y_test)\n",
    "print(\"Random Forest base: {}\".format(rf_base))\n",
    "print(\"Linear Regression base: {}\".format(lr_base))\n",
    "print(\"Stacked: {}\".format(stacked))"
   ]
  },
  {
   "cell_type": "code",
   "execution_count": null,
   "metadata": {},
   "outputs": [],
   "source": []
  }
 ],
 "metadata": {
  "kernelspec": {
   "display_name": "Python 3",
   "language": "python",
   "name": "python3"
  },
  "language_info": {
   "codemirror_mode": {
    "name": "ipython",
    "version": 3
   },
   "file_extension": ".py",
   "mimetype": "text/x-python",
   "name": "python",
   "nbconvert_exporter": "python",
   "pygments_lexer": "ipython3",
   "version": "3.5.2"
  }
 },
 "nbformat": 4,
 "nbformat_minor": 2
}
