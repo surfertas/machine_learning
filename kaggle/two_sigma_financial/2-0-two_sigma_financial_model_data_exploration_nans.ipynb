{
 "cells": [
  {
   "cell_type": "code",
   "execution_count": null,
   "metadata": {},
   "outputs": [],
   "source": []
  },
  {
   "cell_type": "code",
   "execution_count": 2,
   "metadata": {},
   "outputs": [],
   "source": [
    "import numpy as np\n",
    "import pandas as pd\n",
    "import seaborn as sns\n",
    "import matplotlib.pylab as plt\n",
    "\n",
    "%matplotlib inline"
   ]
  },
  {
   "cell_type": "code",
   "execution_count": 3,
   "metadata": {},
   "outputs": [],
   "source": [
    "with pd.HDFStore(\"./data/train.h5\", \"r\") as train:\n",
    "    df = train.get(\"train\")"
   ]
  },
  {
   "cell_type": "markdown",
   "metadata": {},
   "source": [
    "Notes:\n",
    "    1. fundamental_ feautures have a lot more NaNs\n",
    "    2. Observing the NaN count per indictor, does appear that there are groupings that we can extract. The indicators my be a function of the same underlying."
   ]
  },
  {
   "cell_type": "code",
   "execution_count": 4,
   "metadata": {},
   "outputs": [
    {
     "data": {
      "text/html": [
       "<div>\n",
       "<style scoped>\n",
       "    .dataframe tbody tr th:only-of-type {\n",
       "        vertical-align: middle;\n",
       "    }\n",
       "\n",
       "    .dataframe tbody tr th {\n",
       "        vertical-align: top;\n",
       "    }\n",
       "\n",
       "    .dataframe thead th {\n",
       "        text-align: right;\n",
       "    }\n",
       "</style>\n",
       "<table border=\"1\" class=\"dataframe\">\n",
       "  <thead>\n",
       "    <tr style=\"text-align: right;\">\n",
       "      <th></th>\n",
       "      <th>id</th>\n",
       "      <th>timestamp</th>\n",
       "      <th>derived_0</th>\n",
       "      <th>derived_1</th>\n",
       "      <th>derived_2</th>\n",
       "      <th>derived_3</th>\n",
       "      <th>derived_4</th>\n",
       "      <th>fundamental_0</th>\n",
       "      <th>fundamental_1</th>\n",
       "      <th>fundamental_2</th>\n",
       "      <th>...</th>\n",
       "      <th>technical_36</th>\n",
       "      <th>technical_37</th>\n",
       "      <th>technical_38</th>\n",
       "      <th>technical_39</th>\n",
       "      <th>technical_40</th>\n",
       "      <th>technical_41</th>\n",
       "      <th>technical_42</th>\n",
       "      <th>technical_43</th>\n",
       "      <th>technical_44</th>\n",
       "      <th>y</th>\n",
       "    </tr>\n",
       "  </thead>\n",
       "  <tbody>\n",
       "    <tr>\n",
       "      <th>0</th>\n",
       "      <td>10</td>\n",
       "      <td>0</td>\n",
       "      <td>0.370326</td>\n",
       "      <td>-0.006316</td>\n",
       "      <td>0.222831</td>\n",
       "      <td>-0.213030</td>\n",
       "      <td>0.729277</td>\n",
       "      <td>-0.335633</td>\n",
       "      <td>0.113292</td>\n",
       "      <td>1.621238</td>\n",
       "      <td>...</td>\n",
       "      <td>0.775208</td>\n",
       "      <td>NaN</td>\n",
       "      <td>NaN</td>\n",
       "      <td>NaN</td>\n",
       "      <td>-0.414776</td>\n",
       "      <td>NaN</td>\n",
       "      <td>NaN</td>\n",
       "      <td>-2.0</td>\n",
       "      <td>NaN</td>\n",
       "      <td>-0.011753</td>\n",
       "    </tr>\n",
       "    <tr>\n",
       "      <th>1</th>\n",
       "      <td>11</td>\n",
       "      <td>0</td>\n",
       "      <td>0.014765</td>\n",
       "      <td>-0.038064</td>\n",
       "      <td>-0.017425</td>\n",
       "      <td>0.320652</td>\n",
       "      <td>-0.034134</td>\n",
       "      <td>0.004413</td>\n",
       "      <td>0.114285</td>\n",
       "      <td>-0.210185</td>\n",
       "      <td>...</td>\n",
       "      <td>0.025590</td>\n",
       "      <td>NaN</td>\n",
       "      <td>NaN</td>\n",
       "      <td>NaN</td>\n",
       "      <td>-0.273607</td>\n",
       "      <td>NaN</td>\n",
       "      <td>NaN</td>\n",
       "      <td>-2.0</td>\n",
       "      <td>NaN</td>\n",
       "      <td>-0.001240</td>\n",
       "    </tr>\n",
       "    <tr>\n",
       "      <th>2</th>\n",
       "      <td>12</td>\n",
       "      <td>0</td>\n",
       "      <td>-0.010622</td>\n",
       "      <td>-0.050577</td>\n",
       "      <td>3.379575</td>\n",
       "      <td>-0.157525</td>\n",
       "      <td>-0.068550</td>\n",
       "      <td>-0.155937</td>\n",
       "      <td>1.219439</td>\n",
       "      <td>-0.764516</td>\n",
       "      <td>...</td>\n",
       "      <td>0.151881</td>\n",
       "      <td>NaN</td>\n",
       "      <td>NaN</td>\n",
       "      <td>NaN</td>\n",
       "      <td>-0.175710</td>\n",
       "      <td>NaN</td>\n",
       "      <td>NaN</td>\n",
       "      <td>-2.0</td>\n",
       "      <td>NaN</td>\n",
       "      <td>-0.020940</td>\n",
       "    </tr>\n",
       "  </tbody>\n",
       "</table>\n",
       "<p>3 rows × 111 columns</p>\n",
       "</div>"
      ],
      "text/plain": [
       "   id  timestamp  derived_0  derived_1  derived_2  derived_3  derived_4  \\\n",
       "0  10          0   0.370326  -0.006316   0.222831  -0.213030   0.729277   \n",
       "1  11          0   0.014765  -0.038064  -0.017425   0.320652  -0.034134   \n",
       "2  12          0  -0.010622  -0.050577   3.379575  -0.157525  -0.068550   \n",
       "\n",
       "   fundamental_0  fundamental_1  fundamental_2    ...     technical_36  \\\n",
       "0      -0.335633       0.113292       1.621238    ...         0.775208   \n",
       "1       0.004413       0.114285      -0.210185    ...         0.025590   \n",
       "2      -0.155937       1.219439      -0.764516    ...         0.151881   \n",
       "\n",
       "   technical_37  technical_38  technical_39  technical_40  technical_41  \\\n",
       "0           NaN           NaN           NaN     -0.414776           NaN   \n",
       "1           NaN           NaN           NaN     -0.273607           NaN   \n",
       "2           NaN           NaN           NaN     -0.175710           NaN   \n",
       "\n",
       "   technical_42  technical_43  technical_44         y  \n",
       "0           NaN          -2.0           NaN -0.011753  \n",
       "1           NaN          -2.0           NaN -0.001240  \n",
       "2           NaN          -2.0           NaN -0.020940  \n",
       "\n",
       "[3 rows x 111 columns]"
      ]
     },
     "execution_count": 4,
     "metadata": {},
     "output_type": "execute_result"
    }
   ],
   "source": [
    "df.head(3)"
   ]
  },
  {
   "cell_type": "code",
   "execution_count": 5,
   "metadata": {},
   "outputs": [
    {
     "data": {
      "text/plain": [
       "(1710756, 111)"
      ]
     },
     "execution_count": 5,
     "metadata": {},
     "output_type": "execute_result"
    }
   ],
   "source": [
    "df.shape"
   ]
  },
  {
   "cell_type": "code",
   "execution_count": 6,
   "metadata": {},
   "outputs": [
    {
     "name": "stdout",
     "output_type": "stream",
     "text": [
      "id\n",
      "timestamp\n",
      "derived_0\n",
      "derived_1\n",
      "derived_2\n",
      "derived_3\n",
      "derived_4\n",
      "fundamental_0\n",
      "fundamental_1\n",
      "fundamental_2\n",
      "fundamental_3\n",
      "fundamental_5\n",
      "fundamental_6\n",
      "fundamental_7\n",
      "fundamental_8\n",
      "fundamental_9\n",
      "fundamental_10\n",
      "fundamental_11\n",
      "fundamental_12\n",
      "fundamental_13\n",
      "fundamental_14\n",
      "fundamental_15\n",
      "fundamental_16\n",
      "fundamental_17\n",
      "fundamental_18\n",
      "fundamental_19\n",
      "fundamental_20\n",
      "fundamental_21\n",
      "fundamental_22\n",
      "fundamental_23\n",
      "fundamental_24\n",
      "fundamental_25\n",
      "fundamental_26\n",
      "fundamental_27\n",
      "fundamental_28\n",
      "fundamental_29\n",
      "fundamental_30\n",
      "fundamental_31\n",
      "fundamental_32\n",
      "fundamental_33\n",
      "fundamental_34\n",
      "fundamental_35\n",
      "fundamental_36\n",
      "fundamental_37\n",
      "fundamental_38\n",
      "fundamental_39\n",
      "fundamental_40\n",
      "fundamental_41\n",
      "fundamental_42\n",
      "fundamental_43\n",
      "fundamental_44\n",
      "fundamental_45\n",
      "fundamental_46\n",
      "fundamental_47\n",
      "fundamental_48\n",
      "fundamental_49\n",
      "fundamental_50\n",
      "fundamental_51\n",
      "fundamental_52\n",
      "fundamental_53\n",
      "fundamental_54\n",
      "fundamental_55\n",
      "fundamental_56\n",
      "fundamental_57\n",
      "fundamental_58\n",
      "fundamental_59\n",
      "fundamental_60\n",
      "fundamental_61\n",
      "fundamental_62\n",
      "fundamental_63\n",
      "technical_0\n",
      "technical_1\n",
      "technical_2\n",
      "technical_3\n",
      "technical_5\n",
      "technical_6\n",
      "technical_7\n",
      "technical_9\n",
      "technical_10\n",
      "technical_11\n",
      "technical_12\n",
      "technical_13\n",
      "technical_14\n",
      "technical_16\n",
      "technical_17\n",
      "technical_18\n",
      "technical_19\n",
      "technical_20\n",
      "technical_21\n",
      "technical_22\n",
      "technical_24\n",
      "technical_25\n",
      "technical_27\n",
      "technical_28\n",
      "technical_29\n",
      "technical_30\n",
      "technical_31\n",
      "technical_32\n",
      "technical_33\n",
      "technical_34\n",
      "technical_35\n",
      "technical_36\n",
      "technical_37\n",
      "technical_38\n",
      "technical_39\n",
      "technical_40\n",
      "technical_41\n",
      "technical_42\n",
      "technical_43\n",
      "technical_44\n",
      "y\n"
     ]
    }
   ],
   "source": [
    "columns = [print(col) for col in df.columns]"
   ]
  },
  {
   "cell_type": "markdown",
   "metadata": {},
   "source": [
    "Columns\n",
    "1. id\n",
    "1. timestamp\n",
    "1. derived_[0..4]\n",
    "1. fundamental_[0..63]\n",
    "1. technical_[0..44]\n",
    "1. y"
   ]
  },
  {
   "cell_type": "code",
   "execution_count": null,
   "metadata": {},
   "outputs": [],
   "source": []
  },
  {
   "cell_type": "code",
   "execution_count": 18,
   "metadata": {},
   "outputs": [
    {
     "data": {
      "text/html": [
       "<div>\n",
       "<style scoped>\n",
       "    .dataframe tbody tr th:only-of-type {\n",
       "        vertical-align: middle;\n",
       "    }\n",
       "\n",
       "    .dataframe tbody tr th {\n",
       "        vertical-align: top;\n",
       "    }\n",
       "\n",
       "    .dataframe thead th {\n",
       "        text-align: right;\n",
       "    }\n",
       "</style>\n",
       "<table border=\"1\" class=\"dataframe\">\n",
       "  <thead>\n",
       "    <tr style=\"text-align: right;\">\n",
       "      <th></th>\n",
       "      <th>id</th>\n",
       "      <th>timestamp</th>\n",
       "      <th>derived_0</th>\n",
       "      <th>derived_1</th>\n",
       "      <th>derived_2</th>\n",
       "      <th>derived_3</th>\n",
       "      <th>derived_4</th>\n",
       "      <th>fundamental_0</th>\n",
       "      <th>fundamental_1</th>\n",
       "      <th>fundamental_2</th>\n",
       "      <th>...</th>\n",
       "      <th>technical_36</th>\n",
       "      <th>technical_37</th>\n",
       "      <th>technical_38</th>\n",
       "      <th>technical_39</th>\n",
       "      <th>technical_40</th>\n",
       "      <th>technical_41</th>\n",
       "      <th>technical_42</th>\n",
       "      <th>technical_43</th>\n",
       "      <th>technical_44</th>\n",
       "      <th>y</th>\n",
       "    </tr>\n",
       "  </thead>\n",
       "  <tbody>\n",
       "    <tr>\n",
       "      <th>count</th>\n",
       "      <td>1.710756e+06</td>\n",
       "      <td>1.710756e+06</td>\n",
       "      <td>1.637797e+06</td>\n",
       "      <td>1.629727e+06</td>\n",
       "      <td>1.312105e+06</td>\n",
       "      <td>1.561285e+06</td>\n",
       "      <td>1.304298e+06</td>\n",
       "      <td>1.686809e+06</td>\n",
       "      <td>1.031686e+06</td>\n",
       "      <td>1.341916e+06</td>\n",
       "      <td>...</td>\n",
       "      <td>1.708204e+06</td>\n",
       "      <td>1.691591e+06</td>\n",
       "      <td>1.691591e+06</td>\n",
       "      <td>1.690740e+06</td>\n",
       "      <td>1.708520e+06</td>\n",
       "      <td>1.666567e+06</td>\n",
       "      <td>1.690755e+06</td>\n",
       "      <td>1.706070e+06</td>\n",
       "      <td>1.473977e+06</td>\n",
       "      <td>1.710756e+06</td>\n",
       "    </tr>\n",
       "    <tr>\n",
       "      <th>mean</th>\n",
       "      <td>1.093858e+03</td>\n",
       "      <td>9.456257e+02</td>\n",
       "      <td>-4.537569e+00</td>\n",
       "      <td>7.729437e+11</td>\n",
       "      <td>-3.321289e-01</td>\n",
       "      <td>-5.047151e-01</td>\n",
       "      <td>1.803233e+01</td>\n",
       "      <td>-2.041142e-02</td>\n",
       "      <td>-5.703752e+08</td>\n",
       "      <td>-1.623607e-01</td>\n",
       "      <td>...</td>\n",
       "      <td>-8.584284e-02</td>\n",
       "      <td>-9.108464e-02</td>\n",
       "      <td>-8.161018e-02</td>\n",
       "      <td>-7.290059e-02</td>\n",
       "      <td>4.907529e-02</td>\n",
       "      <td>5.236320e-03</td>\n",
       "      <td>-1.700147e-02</td>\n",
       "      <td>-9.735643e-01</td>\n",
       "      <td>3.881556e-04</td>\n",
       "      <td>2.217474e-04</td>\n",
       "    </tr>\n",
       "    <tr>\n",
       "      <th>std</th>\n",
       "      <td>6.308563e+02</td>\n",
       "      <td>5.195685e+02</td>\n",
       "      <td>2.497790e+02</td>\n",
       "      <td>7.620848e+13</td>\n",
       "      <td>6.521051e+01</td>\n",
       "      <td>1.020845e+02</td>\n",
       "      <td>9.260062e+02</td>\n",
       "      <td>2.496619e-01</td>\n",
       "      <td>7.502489e+10</td>\n",
       "      <td>3.675968e+00</td>\n",
       "      <td>...</td>\n",
       "      <td>6.129349e-01</td>\n",
       "      <td>2.476959e-01</td>\n",
       "      <td>2.333819e-01</td>\n",
       "      <td>2.230485e-01</td>\n",
       "      <td>3.105295e-01</td>\n",
       "      <td>1.134394e-01</td>\n",
       "      <td>2.121332e-01</td>\n",
       "      <td>9.626583e-01</td>\n",
       "      <td>3.013458e-02</td>\n",
       "      <td>2.242171e-02</td>\n",
       "    </tr>\n",
       "    <tr>\n",
       "      <th>min</th>\n",
       "      <td>0.000000e+00</td>\n",
       "      <td>0.000000e+00</td>\n",
       "      <td>-2.017497e+04</td>\n",
       "      <td>-7.375435e-02</td>\n",
       "      <td>-9.848880e+03</td>\n",
       "      <td>-3.434176e+04</td>\n",
       "      <td>-8.551914e+03</td>\n",
       "      <td>-2.344957e+00</td>\n",
       "      <td>-1.043737e+13</td>\n",
       "      <td>-1.077101e+03</td>\n",
       "      <td>...</td>\n",
       "      <td>-1.687572e+00</td>\n",
       "      <td>-1.000000e+00</td>\n",
       "      <td>-1.000000e+00</td>\n",
       "      <td>-1.000000e+00</td>\n",
       "      <td>-5.250904e-01</td>\n",
       "      <td>-4.449529e-01</td>\n",
       "      <td>-1.000000e+00</td>\n",
       "      <td>-2.000000e+00</td>\n",
       "      <td>-1.265686e-01</td>\n",
       "      <td>-8.609413e-02</td>\n",
       "    </tr>\n",
       "    <tr>\n",
       "      <th>25%</th>\n",
       "      <td>5.500000e+02</td>\n",
       "      <td>5.040000e+02</td>\n",
       "      <td>-1.449710e-01</td>\n",
       "      <td>-2.956479e-02</td>\n",
       "      <td>-5.967524e-02</td>\n",
       "      <td>-1.655826e-01</td>\n",
       "      <td>-1.057050e-01</td>\n",
       "      <td>-1.996543e-01</td>\n",
       "      <td>-1.960470e-01</td>\n",
       "      <td>-2.280967e-01</td>\n",
       "      <td>...</td>\n",
       "      <td>-4.050297e-01</td>\n",
       "      <td>-4.651562e-04</td>\n",
       "      <td>-1.992532e-04</td>\n",
       "      <td>-2.203252e-05</td>\n",
       "      <td>-1.521701e-01</td>\n",
       "      <td>-7.377038e-02</td>\n",
       "      <td>-3.887695e-15</td>\n",
       "      <td>-2.000000e+00</td>\n",
       "      <td>-1.998819e-02</td>\n",
       "      <td>-9.561389e-03</td>\n",
       "    </tr>\n",
       "    <tr>\n",
       "      <th>50%</th>\n",
       "      <td>1.098000e+03</td>\n",
       "      <td>9.560000e+02</td>\n",
       "      <td>-8.368272e-04</td>\n",
       "      <td>5.523058e-03</td>\n",
       "      <td>2.109505e-02</td>\n",
       "      <td>2.475614e-03</td>\n",
       "      <td>1.175234e-02</td>\n",
       "      <td>-4.064488e-02</td>\n",
       "      <td>-7.395084e-03</td>\n",
       "      <td>-3.029069e-02</td>\n",
       "      <td>...</td>\n",
       "      <td>-8.502064e-02</td>\n",
       "      <td>-3.951567e-12</td>\n",
       "      <td>-1.418487e-13</td>\n",
       "      <td>-1.591224e-16</td>\n",
       "      <td>-1.476793e-02</td>\n",
       "      <td>9.782702e-05</td>\n",
       "      <td>0.000000e+00</td>\n",
       "      <td>-6.597540e-01</td>\n",
       "      <td>1.117279e-05</td>\n",
       "      <td>-1.570681e-04</td>\n",
       "    </tr>\n",
       "    <tr>\n",
       "      <th>75%</th>\n",
       "      <td>1.657000e+03</td>\n",
       "      <td>1.401000e+03</td>\n",
       "      <td>1.199108e-01</td>\n",
       "      <td>1.078554e-01</td>\n",
       "      <td>1.952209e-01</td>\n",
       "      <td>3.037236e-01</td>\n",
       "      <td>1.556464e-01</td>\n",
       "      <td>1.303819e-01</td>\n",
       "      <td>1.832071e-01</td>\n",
       "      <td>1.764751e-01</td>\n",
       "      <td>...</td>\n",
       "      <td>1.909600e-01</td>\n",
       "      <td>-5.219879e-40</td>\n",
       "      <td>0.000000e+00</td>\n",
       "      <td>0.000000e+00</td>\n",
       "      <td>1.772415e-01</td>\n",
       "      <td>7.855728e-02</td>\n",
       "      <td>0.000000e+00</td>\n",
       "      <td>-5.188884e-08</td>\n",
       "      <td>2.047074e-02</td>\n",
       "      <td>9.520990e-03</td>\n",
       "    </tr>\n",
       "    <tr>\n",
       "      <th>max</th>\n",
       "      <td>2.158000e+03</td>\n",
       "      <td>1.812000e+03</td>\n",
       "      <td>3.252527e+03</td>\n",
       "      <td>1.068448e+16</td>\n",
       "      <td>3.823001e+03</td>\n",
       "      <td>1.239737e+03</td>\n",
       "      <td>6.785965e+04</td>\n",
       "      <td>1.378195e+00</td>\n",
       "      <td>5.203165e+02</td>\n",
       "      <td>7.677125e+01</td>\n",
       "      <td>...</td>\n",
       "      <td>4.957758e+01</td>\n",
       "      <td>0.000000e+00</td>\n",
       "      <td>0.000000e+00</td>\n",
       "      <td>0.000000e+00</td>\n",
       "      <td>1.569265e+00</td>\n",
       "      <td>6.844833e-01</td>\n",
       "      <td>1.000000e+00</td>\n",
       "      <td>0.000000e+00</td>\n",
       "      <td>1.435858e-01</td>\n",
       "      <td>9.349781e-02</td>\n",
       "    </tr>\n",
       "  </tbody>\n",
       "</table>\n",
       "<p>8 rows × 111 columns</p>\n",
       "</div>"
      ],
      "text/plain": [
       "                 id     timestamp     derived_0     derived_1     derived_2  \\\n",
       "count  1.710756e+06  1.710756e+06  1.637797e+06  1.629727e+06  1.312105e+06   \n",
       "mean   1.093858e+03  9.456257e+02 -4.537569e+00  7.729437e+11 -3.321289e-01   \n",
       "std    6.308563e+02  5.195685e+02  2.497790e+02  7.620848e+13  6.521051e+01   \n",
       "min    0.000000e+00  0.000000e+00 -2.017497e+04 -7.375435e-02 -9.848880e+03   \n",
       "25%    5.500000e+02  5.040000e+02 -1.449710e-01 -2.956479e-02 -5.967524e-02   \n",
       "50%    1.098000e+03  9.560000e+02 -8.368272e-04  5.523058e-03  2.109505e-02   \n",
       "75%    1.657000e+03  1.401000e+03  1.199108e-01  1.078554e-01  1.952209e-01   \n",
       "max    2.158000e+03  1.812000e+03  3.252527e+03  1.068448e+16  3.823001e+03   \n",
       "\n",
       "          derived_3     derived_4  fundamental_0  fundamental_1  \\\n",
       "count  1.561285e+06  1.304298e+06   1.686809e+06   1.031686e+06   \n",
       "mean  -5.047151e-01  1.803233e+01  -2.041142e-02  -5.703752e+08   \n",
       "std    1.020845e+02  9.260062e+02   2.496619e-01   7.502489e+10   \n",
       "min   -3.434176e+04 -8.551914e+03  -2.344957e+00  -1.043737e+13   \n",
       "25%   -1.655826e-01 -1.057050e-01  -1.996543e-01  -1.960470e-01   \n",
       "50%    2.475614e-03  1.175234e-02  -4.064488e-02  -7.395084e-03   \n",
       "75%    3.037236e-01  1.556464e-01   1.303819e-01   1.832071e-01   \n",
       "max    1.239737e+03  6.785965e+04   1.378195e+00   5.203165e+02   \n",
       "\n",
       "       fundamental_2      ...       technical_36  technical_37  technical_38  \\\n",
       "count   1.341916e+06      ...       1.708204e+06  1.691591e+06  1.691591e+06   \n",
       "mean   -1.623607e-01      ...      -8.584284e-02 -9.108464e-02 -8.161018e-02   \n",
       "std     3.675968e+00      ...       6.129349e-01  2.476959e-01  2.333819e-01   \n",
       "min    -1.077101e+03      ...      -1.687572e+00 -1.000000e+00 -1.000000e+00   \n",
       "25%    -2.280967e-01      ...      -4.050297e-01 -4.651562e-04 -1.992532e-04   \n",
       "50%    -3.029069e-02      ...      -8.502064e-02 -3.951567e-12 -1.418487e-13   \n",
       "75%     1.764751e-01      ...       1.909600e-01 -5.219879e-40  0.000000e+00   \n",
       "max     7.677125e+01      ...       4.957758e+01  0.000000e+00  0.000000e+00   \n",
       "\n",
       "       technical_39  technical_40  technical_41  technical_42  technical_43  \\\n",
       "count  1.690740e+06  1.708520e+06  1.666567e+06  1.690755e+06  1.706070e+06   \n",
       "mean  -7.290059e-02  4.907529e-02  5.236320e-03 -1.700147e-02 -9.735643e-01   \n",
       "std    2.230485e-01  3.105295e-01  1.134394e-01  2.121332e-01  9.626583e-01   \n",
       "min   -1.000000e+00 -5.250904e-01 -4.449529e-01 -1.000000e+00 -2.000000e+00   \n",
       "25%   -2.203252e-05 -1.521701e-01 -7.377038e-02 -3.887695e-15 -2.000000e+00   \n",
       "50%   -1.591224e-16 -1.476793e-02  9.782702e-05  0.000000e+00 -6.597540e-01   \n",
       "75%    0.000000e+00  1.772415e-01  7.855728e-02  0.000000e+00 -5.188884e-08   \n",
       "max    0.000000e+00  1.569265e+00  6.844833e-01  1.000000e+00  0.000000e+00   \n",
       "\n",
       "       technical_44             y  \n",
       "count  1.473977e+06  1.710756e+06  \n",
       "mean   3.881556e-04  2.217474e-04  \n",
       "std    3.013458e-02  2.242171e-02  \n",
       "min   -1.265686e-01 -8.609413e-02  \n",
       "25%   -1.998819e-02 -9.561389e-03  \n",
       "50%    1.117279e-05 -1.570681e-04  \n",
       "75%    2.047074e-02  9.520990e-03  \n",
       "max    1.435858e-01  9.349781e-02  \n",
       "\n",
       "[8 rows x 111 columns]"
      ]
     },
     "execution_count": 18,
     "metadata": {},
     "output_type": "execute_result"
    }
   ],
   "source": [
    "df.describe()"
   ]
  },
  {
   "cell_type": "markdown",
   "metadata": {},
   "source": [
    "### Assess present of NaNs"
   ]
  },
  {
   "cell_type": "markdown",
   "metadata": {},
   "source": [
    "Assess NaNs across col"
   ]
  },
  {
   "cell_type": "code",
   "execution_count": 21,
   "metadata": {},
   "outputs": [
    {
     "name": "stdout",
     "output_type": "stream",
     "text": [
      "Number of columns with NaN values in train: 106/111\n"
     ]
    }
   ],
   "source": [
    "col_nan = len(df.columns[df.isnull().any()])\n",
    "print(\"Number of columns with NaN values in train: {}/{}\".format(col_nan, df.shape[1]))"
   ]
  },
  {
   "cell_type": "code",
   "execution_count": 22,
   "metadata": {},
   "outputs": [
    {
     "data": {
      "text/plain": [
       "id                     0\n",
       "timestamp              0\n",
       "derived_0          72959\n",
       "derived_1          81029\n",
       "derived_2         398651\n",
       "derived_3         149471\n",
       "derived_4         406458\n",
       "fundamental_0      23947\n",
       "fundamental_1     679070\n",
       "fundamental_2     368840\n",
       "fundamental_3     454380\n",
       "fundamental_5     962020\n",
       "fundamental_6     701625\n",
       "fundamental_7      26340\n",
       "fundamental_8     373166\n",
       "fundamental_9     565567\n",
       "fundamental_10    112977\n",
       "fundamental_11    368840\n",
       "fundamental_12    110871\n",
       "fundamental_13    355138\n",
       "fundamental_14    356084\n",
       "fundamental_15    354897\n",
       "fundamental_16    355138\n",
       "fundamental_17     97222\n",
       "fundamental_18     15833\n",
       "fundamental_19     54588\n",
       "fundamental_20    110871\n",
       "fundamental_21     54333\n",
       "fundamental_22    558488\n",
       "fundamental_23    356723\n",
       "dtype: int64"
      ]
     },
     "execution_count": 22,
     "metadata": {},
     "output_type": "execute_result"
    }
   ],
   "source": [
    "col_nan = df.isnull().sum(axis=0)\n",
    "col_nan.head(30)"
   ]
  },
  {
   "cell_type": "code",
   "execution_count": 26,
   "metadata": {},
   "outputs": [
    {
     "data": {
      "text/plain": [
       "fundamental_5      748736\n",
       "fundamental_38     907267\n",
       "fundamental_6     1009131\n",
       "fundamental_1     1031686\n",
       "fundamental_61    1038955\n",
       "fundamental_28    1043425\n",
       "fundamental_26    1053572\n",
       "fundamental_57    1053572\n",
       "fundamental_24    1134101\n",
       "fundamental_9     1145189\n",
       "fundamental_22    1152268\n",
       "fundamental_49    1152423\n",
       "fundamental_31    1256376\n",
       "fundamental_3     1256376\n",
       "fundamental_51    1263703\n",
       "fundamental_47    1264428\n",
       "fundamental_34    1275894\n",
       "fundamental_35    1286280\n",
       "derived_4         1304298\n",
       "derived_2         1312105\n",
       "fundamental_54    1326543\n",
       "fundamental_39    1333182\n",
       "fundamental_63    1335142\n",
       "fundamental_8     1337590\n",
       "fundamental_11    1341916\n",
       "fundamental_2     1341916\n",
       "fundamental_56    1341916\n",
       "fundamental_55    1341916\n",
       "fundamental_23    1354033\n",
       "fundamental_14    1354672\n",
       "                   ...   \n",
       "technical_38      1691591\n",
       "technical_0       1691591\n",
       "fundamental_59    1694694\n",
       "fundamental_45    1694694\n",
       "fundamental_36    1694913\n",
       "fundamental_48    1694913\n",
       "fundamental_18    1694923\n",
       "technical_33      1696221\n",
       "technical_14      1696572\n",
       "fundamental_33    1696921\n",
       "technical_13      1705992\n",
       "technical_20      1705992\n",
       "technical_30      1705992\n",
       "technical_43      1706070\n",
       "technical_17      1706477\n",
       "technical_11      1706477\n",
       "technical_6       1706477\n",
       "technical_2       1706477\n",
       "technical_35      1707601\n",
       "technical_36      1708204\n",
       "technical_27      1708336\n",
       "technical_19      1708436\n",
       "technical_7       1708520\n",
       "technical_21      1708520\n",
       "technical_40      1708520\n",
       "id                1710756\n",
       "technical_22      1710756\n",
       "timestamp         1710756\n",
       "technical_34      1710756\n",
       "y                 1710756\n",
       "Length: 111, dtype: int64"
      ]
     },
     "execution_count": 26,
     "metadata": {},
     "output_type": "execute_result"
    }
   ],
   "source": [
    "ncount_sorted = df.count().sort_values()\n",
    "ncount_sorted"
   ]
  },
  {
   "cell_type": "code",
   "execution_count": 31,
   "metadata": {},
   "outputs": [
    {
     "data": {
      "text/plain": [
       "<matplotlib.axes._subplots.AxesSubplot at 0x7f07c31b96a0>"
      ]
     },
     "execution_count": 31,
     "metadata": {},
     "output_type": "execute_result"
    },
    {
     "data": {
      "image/png": "[encoded data removed]",
      "text/plain": [
       "<matplotlib.figure.Figure at 0x7f07c3333748>"
      ]
     },
     "metadata": {},
     "output_type": "display_data"
    }
   ],
   "source": [
    "ncount_sorted.plot.bar()"
   ]
  },
  {
   "cell_type": "code",
   "execution_count": 32,
   "metadata": {},
   "outputs": [
    {
     "data": {
      "text/plain": [
       "technical_21      0.001307\n",
       "technical_40      0.001307\n",
       "technical_7       0.001307\n",
       "technical_19      0.001356\n",
       "technical_27      0.001415\n",
       "technical_36      0.001492\n",
       "technical_35      0.001844\n",
       "technical_2       0.002501\n",
       "technical_11      0.002501\n",
       "technical_6       0.002501\n",
       "technical_17      0.002501\n",
       "technical_43      0.002739\n",
       "technical_20      0.002785\n",
       "technical_13      0.002785\n",
       "technical_30      0.002785\n",
       "fundamental_33    0.008087\n",
       "technical_14      0.008291\n",
       "technical_33      0.008496\n",
       "fundamental_18    0.009255\n",
       "fundamental_36    0.009261\n",
       "fundamental_48    0.009261\n",
       "fundamental_45    0.009389\n",
       "fundamental_59    0.009389\n",
       "technical_37      0.011203\n",
       "technical_32      0.011203\n",
       "technical_12      0.011203\n",
       "technical_0       0.011203\n",
       "technical_9       0.011203\n",
       "technical_38      0.011203\n",
       "technical_16      0.011680\n",
       "                    ...   \n",
       "fundamental_14    0.208144\n",
       "fundamental_23    0.208518\n",
       "fundamental_2     0.215601\n",
       "fundamental_55    0.215601\n",
       "fundamental_56    0.215601\n",
       "fundamental_11    0.215601\n",
       "fundamental_8     0.218129\n",
       "fundamental_63    0.219560\n",
       "fundamental_39    0.220706\n",
       "fundamental_54    0.224587\n",
       "derived_2         0.233026\n",
       "derived_4         0.237590\n",
       "fundamental_35    0.248122\n",
       "fundamental_34    0.254193\n",
       "fundamental_47    0.260895\n",
       "fundamental_51    0.261319\n",
       "fundamental_3     0.265602\n",
       "fundamental_31    0.265602\n",
       "fundamental_49    0.326366\n",
       "fundamental_22    0.326457\n",
       "fundamental_9     0.330595\n",
       "fundamental_24    0.337076\n",
       "fundamental_26    0.384148\n",
       "fundamental_57    0.384148\n",
       "fundamental_28    0.390080\n",
       "fundamental_61    0.392692\n",
       "fundamental_1     0.396941\n",
       "fundamental_6     0.410126\n",
       "fundamental_38    0.469669\n",
       "fundamental_5     0.562336\n",
       "Length: 106, dtype: float64"
      ]
     },
     "execution_count": 32,
     "metadata": {},
     "output_type": "execute_result"
    }
   ],
   "source": [
    "miss = df.isnull().mean()\n",
    "miss = miss[miss > 0]\n",
    "miss.sort_values(inplace=True)\n",
    "miss"
   ]
  },
  {
   "cell_type": "code",
   "execution_count": 34,
   "metadata": {},
   "outputs": [
    {
     "name": "stderr",
     "output_type": "stream",
     "text": [
      "/usr/local/lib/python3.5/dist-packages/ipykernel_launcher.py:4: UserWarning: Pandas doesn't allow columns to be created via a new attribute name - see https://pandas.pydata.org/pandas-docs/stable/indexing.html#attribute-access\n",
      "  after removing the cwd from sys.path.\n"
     ]
    },
    {
     "data": {
      "image/png": "[encoded data removed]",
      "text/plain": [
       "<matplotlib.figure.Figure at 0x7f410ba74e48>"
      ]
     },
     "metadata": {},
     "output_type": "display_data"
    }
   ],
   "source": [
    "# Visualize missing values\n",
    "miss_df = miss.to_frame()\n",
    "miss_df.columns = ['count_%']\n",
    "miss_df.index_names = ['Name']\n",
    "miss_df['Name'] = miss_df.index\n",
    "\n",
    "# Plot the missing value count\n",
    "sns.set(style=\"whitegrid\", color_codes=True)\n",
    "sns.barplot(x = 'Name', y = 'count_%', data=miss_df)\n",
    "plt.xticks(rotation = 90)\n",
    "plt.show()"
   ]
  },
  {
   "cell_type": "markdown",
   "metadata": {},
   "source": [
    "The fundamental features have a material # of Nans."
   ]
  },
  {
   "cell_type": "code",
   "execution_count": 69,
   "metadata": {},
   "outputs": [
    {
     "name": "stdout",
     "output_type": "stream",
     "text": [
      "                 count_%            Name\n",
      "fundamental_29  0.206988  fundamental_29\n",
      "fundamental_43  0.207236  fundamental_43\n",
      "fundamental_15  0.207450  fundamental_15\n",
      "fundamental_30  0.207456  fundamental_30\n",
      "fundamental_60  0.207584  fundamental_60\n",
      "fundamental_13  0.207591  fundamental_13\n",
      "fundamental_16  0.207591  fundamental_16\n",
      "fundamental_50  0.207646  fundamental_50\n",
      "fundamental_44  0.207981  fundamental_44\n",
      "fundamental_46  0.208003  fundamental_46\n",
      "Number of features with nan frequency > 20%: 41\n"
     ]
    }
   ],
   "source": [
    "# Feautures with more than 20% of nan values.\n",
    "df_large_nan_count = miss_df[miss_df[\"count_%\"] > 0.20]\n",
    "print(df_large_nan_count.head(10))\n",
    "print(\"Number of features with nan frequency > 20%: {}\".format(df_large_nan_count.count()[0]))"
   ]
  },
  {
   "cell_type": "markdown",
   "metadata": {},
   "source": [
    "Assess NaNs across rows"
   ]
  },
  {
   "cell_type": "code",
   "execution_count": 11,
   "metadata": {},
   "outputs": [],
   "source": [
    "nan_rows = df.isnull().sum(axis=1)"
   ]
  },
  {
   "cell_type": "code",
   "execution_count": 18,
   "metadata": {},
   "outputs": [
    {
     "data": {
      "text/plain": [
       "0     24\n",
       "1     22\n",
       "2     28\n",
       "3     38\n",
       "4     21\n",
       "5     30\n",
       "6     60\n",
       "7     22\n",
       "8     21\n",
       "9     27\n",
       "10    27\n",
       "11    42\n",
       "12    21\n",
       "13    51\n",
       "14    54\n",
       "15    33\n",
       "16    26\n",
       "17    27\n",
       "18    36\n",
       "19    30\n",
       "dtype: int64"
      ]
     },
     "execution_count": 18,
     "metadata": {},
     "output_type": "execute_result"
    }
   ],
   "source": [
    "nan_rows.head(20)"
   ]
  },
  {
   "cell_type": "code",
   "execution_count": 19,
   "metadata": {},
   "outputs": [
    {
     "data": {
      "text/plain": [
       "<matplotlib.axes._subplots.AxesSubplot at 0x7f07bc22af28>"
      ]
     },
     "execution_count": 19,
     "metadata": {},
     "output_type": "execute_result"
    },
    {
     "data": {
      "image/png": "[encoded data removed]",
      "text/plain": [
       "<matplotlib.figure.Figure at 0x7f07bc21afd0>"
      ]
     },
     "metadata": {},
     "output_type": "display_data"
    }
   ],
   "source": [
    "nan_rows.hist()"
   ]
  },
  {
   "cell_type": "code",
   "execution_count": 20,
   "metadata": {},
   "outputs": [
    {
     "name": "stdout",
     "output_type": "stream",
     "text": [
      "Numerical features: 111\n",
      "Categorical features: 0\n"
     ]
    }
   ],
   "source": [
    "cat = df.select_dtypes(include=['object']).columns\n",
    "num = df.select_dtypes(exclude=['object']).columns\n",
    "print(\"Numerical features: {}\".format(len(num)))\n",
    "print(\"Categorical features: {}\".format(len(cat)))"
   ]
  },
  {
   "cell_type": "code",
   "execution_count": null,
   "metadata": {},
   "outputs": [],
   "source": []
  }
 ],
 "metadata": {
  "kernelspec": {
   "display_name": "Python 3",
   "language": "python",
   "name": "python3"
  },
  "language_info": {
   "codemirror_mode": {
    "name": "ipython",
    "version": 3
   },
   "file_extension": ".py",
   "mimetype": "text/x-python",
   "name": "python",
   "nbconvert_exporter": "python",
   "pygments_lexer": "ipython3",
   "version": "3.5.2"
  }
 },
 "nbformat": 4,
 "nbformat_minor": 2
}
